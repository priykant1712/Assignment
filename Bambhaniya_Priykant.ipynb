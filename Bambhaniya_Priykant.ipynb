{
  "nbformat": 4,
  "nbformat_minor": 0,
  "metadata": {
    "colab": {
      "name": "Bambhaniya Priykant.ipynb",
      "provenance": [],
      "collapsed_sections": []
    },
    "kernelspec": {
      "name": "python3",
      "display_name": "Python 3"
    }
  },
  "cells": [
    {
      "cell_type": "code",
      "metadata": {
        "colab": {
          "base_uri": "https://localhost:8080/"
        },
        "id": "WiJM9Rfd997z",
        "outputId": "08db67a0-6555-48c8-c5aa-352081fd8bde"
      },
      "source": [
        "print(\"welcome to the revision class of phyton\")"
      ],
      "execution_count": null,
      "outputs": [
        {
          "output_type": "stream",
          "text": [
            "welcome to the revision class of phyton\n"
          ],
          "name": "stdout"
        }
      ]
    },
    {
      "cell_type": "code",
      "metadata": {
        "colab": {
          "base_uri": "https://localhost:8080/"
        },
        "id": "1VFOKJ9n-cgv",
        "outputId": "82274705-c6ba-4c0e-b74a-68c942705e24"
      },
      "source": [
        "print(\"welcome to the revision class of phyton\")"
      ],
      "execution_count": null,
      "outputs": [
        {
          "output_type": "stream",
          "text": [
            "welcome to the revision class of phyton\n"
          ],
          "name": "stdout"
        }
      ]
    },
    {
      "cell_type": "code",
      "metadata": {
        "colab": {
          "base_uri": "https://localhost:8080/"
        },
        "id": "4M6ff5qf-2uv",
        "outputId": "9f8d7a5a-bdcf-42b0-d261-10d82288eb3c"
      },
      "source": [
        "x =8\n",
        "if 5 > x:\n",
        " print(\"is less than\")\n",
        "else :\n",
        " print(\"is grater than\")"
      ],
      "execution_count": null,
      "outputs": [
        {
          "output_type": "stream",
          "text": [
            "is grater than\n"
          ],
          "name": "stdout"
        }
      ]
    },
    {
      "cell_type": "code",
      "metadata": {
        "colab": {
          "base_uri": "https://localhost:8080/"
        },
        "id": "p5WZk2RG-5fc",
        "outputId": "9a65ce3e-9ac4-4f10-fea0-15d79ef517e1"
      },
      "source": [
        "thislist = [\"orange\", \"mango\",\"kiwi\",\"pineapple\",\"banana\"]\n",
        "thislist.sort()\n",
        "print(thislist)"
      ],
      "execution_count": null,
      "outputs": [
        {
          "output_type": "stream",
          "text": [
            "['banana', 'kiwi', 'mango', 'orange', 'pineapple']\n"
          ],
          "name": "stdout"
        }
      ]
    },
    {
      "cell_type": "code",
      "metadata": {
        "colab": {
          "base_uri": "https://localhost:8080/"
        },
        "id": "JTjq9d2-_TAy",
        "outputId": "c0f1f71f-2f2f-4e7b-d11f-acc2f127b92e"
      },
      "source": [
        "thislist = [100,40,50,2,22,83,78]\n",
        "thislist.sort()\n",
        "print(thislist)"
      ],
      "execution_count": null,
      "outputs": [
        {
          "output_type": "stream",
          "text": [
            "[2, 22, 40, 50, 78, 83, 100]\n"
          ],
          "name": "stdout"
        }
      ]
    },
    {
      "cell_type": "code",
      "metadata": {
        "colab": {
          "base_uri": "https://localhost:8080/"
        },
        "id": "zJKZKd_w_VAh",
        "outputId": "0fdcf6c1-18b1-4aa1-8e87-e07c9638dbfa"
      },
      "source": [
        "thislist = [\"orange\", \"mango\",\"kiwi\",\"pineapple\",\"banana\"]\n",
        "newlist = thislist.copy()\n",
        "print(newlist)"
      ],
      "execution_count": null,
      "outputs": [
        {
          "output_type": "stream",
          "text": [
            "['orange', 'mango', 'kiwi', 'pineapple', 'banana']\n"
          ],
          "name": "stdout"
        }
      ]
    },
    {
      "cell_type": "code",
      "metadata": {
        "colab": {
          "base_uri": "https://localhost:8080/"
        },
        "id": "3Uc-scus_Xe-",
        "outputId": "7c9fc9e5-3ffc-4232-d463-deab8a241e90"
      },
      "source": [
        "thislist = [100,40,50,2,22,83,78]\n",
        "newlist = thislist.copy()\n",
        "print(newlist)"
      ],
      "execution_count": null,
      "outputs": [
        {
          "output_type": "stream",
          "text": [
            "[100, 40, 50, 2, 22, 83, 78]\n"
          ],
          "name": "stdout"
        }
      ]
    },
    {
      "cell_type": "code",
      "metadata": {
        "colab": {
          "base_uri": "https://localhost:8080/"
        },
        "id": "JA8nV4SD_a2u",
        "outputId": "a5f11837-be2e-4c33-ba88-f170350d45f7"
      },
      "source": [
        "list1 = [\"orange\", \"mango\",\"kiwi\",\"pineapple\",\"banana\"]\n",
        "list2 = [100,40,50,2,22,83,78]\n",
        "list3=list1+list2\n",
        "print(list3)"
      ],
      "execution_count": null,
      "outputs": [
        {
          "output_type": "stream",
          "text": [
            "['orange', 'mango', 'kiwi', 'pineapple', 'banana', 100, 40, 50, 2, 22, 83, 78]\n"
          ],
          "name": "stdout"
        }
      ]
    },
    {
      "cell_type": "code",
      "metadata": {
        "colab": {
          "base_uri": "https://localhost:8080/",
          "height": 129
        },
        "id": "FoZkEuDy_vEl",
        "outputId": "cc6901fd-844d-43e4-ae31-567068042560"
      },
      "source": [
        "list1 = [\"orange\", \"mango\",\"kiwi\",\"pineapple\",\"banana\"]\n",
        "list2 = [100,40,50,2,22,83,78]\n",
        "for x in list2:\n",
        "   list1.append(x)\n",
        "9print(list1)"
      ],
      "execution_count": null,
      "outputs": [
        {
          "output_type": "error",
          "ename": "SyntaxError",
          "evalue": "ignored",
          "traceback": [
            "\u001b[0;36m  File \u001b[0;32m\"<ipython-input-9-2c444cb076d7>\"\u001b[0;36m, line \u001b[0;32m5\u001b[0m\n\u001b[0;31m    9print(list1)\u001b[0m\n\u001b[0m         ^\u001b[0m\n\u001b[0;31mSyntaxError\u001b[0m\u001b[0;31m:\u001b[0m invalid syntax\n"
          ]
        }
      ]
    },
    {
      "cell_type": "code",
      "metadata": {
        "id": "ICtjjolc_zdG"
      },
      "source": [
        "list1 = [\"orange\", \"mango\",\"kiwi\",\"pineapple\",\"banana\"]\n",
        "list2 = [100,40,50,2,22,83,78]\n",
        "list1.extend(list2)\n",
        "print(list1)"
      ],
      "execution_count": null,
      "outputs": []
    },
    {
      "cell_type": "code",
      "metadata": {
        "id": "HjNmStnG_9lq"
      },
      "source": [
        "list1 = [\"orange\", \"mango\",\"kiwi\",\"pineapple\",\"banana\"]\n",
        "list1"
      ],
      "execution_count": null,
      "outputs": []
    },
    {
      "cell_type": "code",
      "metadata": {
        "id": "2YLe0O-1AUC_"
      },
      "source": [
        "thistuple=(\"apple\",\"banana\",\"orange\")\n",
        "thistuple"
      ],
      "execution_count": null,
      "outputs": []
    },
    {
      "cell_type": "code",
      "metadata": {
        "id": "mi8LAY2pAzvw"
      },
      "source": [
        "thistuple=(\"orange\", \"mango\",\"kiwi\",\"pineapple\",\"banana\")\n",
        "thistuple"
      ],
      "execution_count": null,
      "outputs": []
    },
    {
      "cell_type": "code",
      "metadata": {
        "id": "7i5h2nXSBHGw"
      },
      "source": [
        "thistuple=(\"orange\", \"mango\",\"kiwi\",\"pineapple\",\"banana\")\n",
        "(len(thistuple))"
      ],
      "execution_count": null,
      "outputs": []
    },
    {
      "cell_type": "code",
      "metadata": {
        "id": "B728U7n0BUCM"
      },
      "source": [
        "tuple1=(\"orange\", \"mango\",\"kiwi\",\"pineapple\",\"banana\")\n",
        "tuple2=(100,40,50,2,22,83,78)\n",
        "tuple3=(True,False,False)\n",
        "print(tuple1)\n",
        "print(tuple2)\n",
        "print(tuple3)"
      ],
      "execution_count": null,
      "outputs": []
    },
    {
      "cell_type": "code",
      "metadata": {
        "id": "bib1apW2CBiP"
      },
      "source": [
        "tuple1=(\"orange\",23, \"pineapple\",True,\"banana\",12)\n",
        "print(tuple1[2:])"
      ],
      "execution_count": null,
      "outputs": []
    },
    {
      "cell_type": "code",
      "metadata": {
        "id": "J7k5F1LqCft1"
      },
      "source": [
        "tuple1=(\"orange\",23, \"pineapple\",True,\"banana\",12)\n",
        "print(tuple1[:3])"
      ],
      "execution_count": null,
      "outputs": []
    },
    {
      "cell_type": "code",
      "metadata": {
        "id": "NO1LCuDNDLyr"
      },
      "source": [
        "tuple1=(\"orange\",23, \"pineapple\",True,\"banana\",12)\n",
        "print(tuple1[:])"
      ],
      "execution_count": null,
      "outputs": []
    },
    {
      "cell_type": "code",
      "metadata": {
        "id": "Mu9uQOEeDO6Q"
      },
      "source": [
        "x=(\"orange\", \"mango\",\"kiwi\")\n",
        "y=list(x)\n",
        "y[1]=\"apple\"\n",
        "x=tuple(y)\n",
        "x"
      ],
      "execution_count": null,
      "outputs": []
    },
    {
      "cell_type": "code",
      "metadata": {
        "colab": {
          "base_uri": "https://localhost:8080/"
        },
        "id": "s291KRSUD3zf",
        "outputId": "8b6aadf7-3ea2-4e77-f123-45ca5f1b8f5b"
      },
      "source": [
        "thistuple=(\"orange\", \"mango\",\"kiwi\")\n",
        "y= list(thistuple)\n",
        "y.append(\"apple\")\n",
        "thistuple=tuple(y)\n",
        "y"
      ],
      "execution_count": null,
      "outputs": [
        {
          "output_type": "execute_result",
          "data": {
            "text/plain": [
              "['orange', 'mango', 'kiwi', 'apple']"
            ]
          },
          "metadata": {
            "tags": []
          },
          "execution_count": 10
        }
      ]
    },
    {
      "cell_type": "code",
      "metadata": {
        "colab": {
          "base_uri": "https://localhost:8080/"
        },
        "id": "AIi_axpIEgVL",
        "outputId": "c68f557b-7070-4c78-dcf7-35e7441c66d1"
      },
      "source": [
        "thistuple=(\"orange\", \"mango\",\"kiwi\")\n",
        "y= list(thistuple)\n",
        "y.remove(\"mango\")\n",
        "thistuple=tuple(y)\n",
        "y"
      ],
      "execution_count": null,
      "outputs": [
        {
          "output_type": "execute_result",
          "data": {
            "text/plain": [
              "['orange', 'kiwi']"
            ]
          },
          "metadata": {
            "tags": []
          },
          "execution_count": 11
        }
      ]
    },
    {
      "cell_type": "code",
      "metadata": {
        "id": "ZHSBf4izE9rg"
      },
      "source": [
        "thistuple=(\"orange\", \"mango\",\"kiwi\")"
      ],
      "execution_count": null,
      "outputs": []
    },
    {
      "cell_type": "code",
      "metadata": {
        "colab": {
          "base_uri": "https://localhost:8080/"
        },
        "id": "r0K0b0iLFdKx",
        "outputId": "0e7615b2-d699-49ca-bf23-85841c01d41b"
      },
      "source": [
        "fruits=(\"orange\", \"mango\",\"kiwi\")\n",
        "(orange,yellow,green)=fruits\n",
        "print(orange)\n",
        "print(yellow)\n",
        "print(green)"
      ],
      "execution_count": null,
      "outputs": [
        {
          "output_type": "stream",
          "text": [
            "orange\n",
            "mango\n",
            "kiwi\n"
          ],
          "name": "stdout"
        }
      ]
    },
    {
      "cell_type": "code",
      "metadata": {
        "colab": {
          "base_uri": "https://localhost:8080/"
        },
        "id": "Wourkl54Fypi",
        "outputId": "a323b6b5-e12d-40cc-9ffd-2b5bb5e806d6"
      },
      "source": [
        "fruits=(\"orange\", \"mango\",\"kiwi\",\"apple\",\"lemon\")\n",
        "(orange,yellow,*green)=fruits\n",
        "print(orange)\n",
        "print(yellow)\n",
        "print(green)"
      ],
      "execution_count": null,
      "outputs": [
        {
          "output_type": "stream",
          "text": [
            "orange\n",
            "mango\n",
            "['kiwi', 'apple', 'lemon']\n"
          ],
          "name": "stdout"
        }
      ]
    },
    {
      "cell_type": "code",
      "metadata": {
        "colab": {
          "base_uri": "https://localhost:8080/"
        },
        "id": "LRw4aE21GNqW",
        "outputId": "1be8dd09-a9b3-4420-b2ce-363616141236"
      },
      "source": [
        "fruits=(\"orange\", \"mango\",\"kiwi\",\"apple\",\"lemon\")\n",
        "for x in fruits:\n",
        "  print(x)"
      ],
      "execution_count": null,
      "outputs": [
        {
          "output_type": "stream",
          "text": [
            "orange\n",
            "mango\n",
            "kiwi\n",
            "apple\n",
            "lemon\n"
          ],
          "name": "stdout"
        }
      ]
    },
    {
      "cell_type": "code",
      "metadata": {
        "colab": {
          "base_uri": "https://localhost:8080/"
        },
        "id": "aXmT6qMbGx95",
        "outputId": "c5f6840b-0ef3-4cd6-8c35-f3ae21ee7120"
      },
      "source": [
        "fruits=(\"orange\", \"mango\",\"kiwi\",\"apple\",\"lemon\")\n",
        "for i in range(len(fruits)):\n",
        "  print(fruits[i])"
      ],
      "execution_count": null,
      "outputs": [
        {
          "output_type": "stream",
          "text": [
            "orange\n",
            "mango\n",
            "kiwi\n",
            "apple\n",
            "lemon\n"
          ],
          "name": "stdout"
        }
      ]
    },
    {
      "cell_type": "markdown",
      "metadata": {
        "id": "2zv2CTzHdgDg"
      },
      "source": [
        "### Concatenation, Merge and Joing Data  Frame in Pandas "
      ]
    },
    {
      "cell_type": "markdown",
      "metadata": {
        "id": "sgIu1lF1di-h"
      },
      "source": [
        "**Lets us learn Concatenation**"
      ]
    },
    {
      "cell_type": "code",
      "metadata": {
        "id": "7fgb8UE7HT6O",
        "colab": {
          "base_uri": "https://localhost:8080/"
        },
        "outputId": "6a235291-5aa4-44af-e40e-4bb74d2339a0"
      },
      "source": [
        "import pandas as pd\n",
        "df1 = pd.DataFrame({'Item':['A','B','C','D'],\n",
        "                     'Value': [1,2,3,5]})\n",
        "df2 = pd.DataFrame({'Item':['E','F','G','H'],\n",
        "                     'Value': [5,6,7,8]})\n",
        "print(df1)\n",
        "print(df2)"
      ],
      "execution_count": null,
      "outputs": [
        {
          "output_type": "stream",
          "text": [
            "  Item  Value\n",
            "0    A      1\n",
            "1    B      2\n",
            "2    C      3\n",
            "3    D      5\n",
            "  Item  Value\n",
            "0    E      5\n",
            "1    F      6\n",
            "2    G      7\n",
            "3    H      8\n"
          ],
          "name": "stdout"
        }
      ]
    },
    {
      "cell_type": "code",
      "metadata": {
        "colab": {
          "base_uri": "https://localhost:8080/",
          "height": 297
        },
        "id": "FLKAerOsdbck",
        "outputId": "7bf14955-5776-42cb-8950-17bb909874dc"
      },
      "source": [
        "pd.concat([df1,df2])"
      ],
      "execution_count": null,
      "outputs": [
        {
          "output_type": "execute_result",
          "data": {
            "text/html": [
              "<div>\n",
              "<style scoped>\n",
              "    .dataframe tbody tr th:only-of-type {\n",
              "        vertical-align: middle;\n",
              "    }\n",
              "\n",
              "    .dataframe tbody tr th {\n",
              "        vertical-align: top;\n",
              "    }\n",
              "\n",
              "    .dataframe thead th {\n",
              "        text-align: right;\n",
              "    }\n",
              "</style>\n",
              "<table border=\"1\" class=\"dataframe\">\n",
              "  <thead>\n",
              "    <tr style=\"text-align: right;\">\n",
              "      <th></th>\n",
              "      <th>Item</th>\n",
              "      <th>Value</th>\n",
              "    </tr>\n",
              "  </thead>\n",
              "  <tbody>\n",
              "    <tr>\n",
              "      <th>0</th>\n",
              "      <td>A</td>\n",
              "      <td>1</td>\n",
              "    </tr>\n",
              "    <tr>\n",
              "      <th>1</th>\n",
              "      <td>B</td>\n",
              "      <td>2</td>\n",
              "    </tr>\n",
              "    <tr>\n",
              "      <th>2</th>\n",
              "      <td>C</td>\n",
              "      <td>3</td>\n",
              "    </tr>\n",
              "    <tr>\n",
              "      <th>3</th>\n",
              "      <td>D</td>\n",
              "      <td>5</td>\n",
              "    </tr>\n",
              "    <tr>\n",
              "      <th>0</th>\n",
              "      <td>E</td>\n",
              "      <td>5</td>\n",
              "    </tr>\n",
              "    <tr>\n",
              "      <th>1</th>\n",
              "      <td>F</td>\n",
              "      <td>6</td>\n",
              "    </tr>\n",
              "    <tr>\n",
              "      <th>2</th>\n",
              "      <td>G</td>\n",
              "      <td>7</td>\n",
              "    </tr>\n",
              "    <tr>\n",
              "      <th>3</th>\n",
              "      <td>H</td>\n",
              "      <td>8</td>\n",
              "    </tr>\n",
              "  </tbody>\n",
              "</table>\n",
              "</div>"
            ],
            "text/plain": [
              "  Item  Value\n",
              "0    A      1\n",
              "1    B      2\n",
              "2    C      3\n",
              "3    D      5\n",
              "0    E      5\n",
              "1    F      6\n",
              "2    G      7\n",
              "3    H      8"
            ]
          },
          "metadata": {
            "tags": []
          },
          "execution_count": 5
        }
      ]
    },
    {
      "cell_type": "code",
      "metadata": {
        "colab": {
          "base_uri": "https://localhost:8080/",
          "height": 173
        },
        "id": "xYd6nHgQem94",
        "outputId": "d9bc183f-279b-4bc9-afc9-1b0993bfa569"
      },
      "source": [
        "df1"
      ],
      "execution_count": null,
      "outputs": [
        {
          "output_type": "execute_result",
          "data": {
            "text/html": [
              "<div>\n",
              "<style scoped>\n",
              "    .dataframe tbody tr th:only-of-type {\n",
              "        vertical-align: middle;\n",
              "    }\n",
              "\n",
              "    .dataframe tbody tr th {\n",
              "        vertical-align: top;\n",
              "    }\n",
              "\n",
              "    .dataframe thead th {\n",
              "        text-align: right;\n",
              "    }\n",
              "</style>\n",
              "<table border=\"1\" class=\"dataframe\">\n",
              "  <thead>\n",
              "    <tr style=\"text-align: right;\">\n",
              "      <th></th>\n",
              "      <th>Item</th>\n",
              "      <th>Value</th>\n",
              "    </tr>\n",
              "  </thead>\n",
              "  <tbody>\n",
              "    <tr>\n",
              "      <th>0</th>\n",
              "      <td>A</td>\n",
              "      <td>1</td>\n",
              "    </tr>\n",
              "    <tr>\n",
              "      <th>1</th>\n",
              "      <td>B</td>\n",
              "      <td>2</td>\n",
              "    </tr>\n",
              "    <tr>\n",
              "      <th>2</th>\n",
              "      <td>C</td>\n",
              "      <td>3</td>\n",
              "    </tr>\n",
              "    <tr>\n",
              "      <th>3</th>\n",
              "      <td>D</td>\n",
              "      <td>5</td>\n",
              "    </tr>\n",
              "  </tbody>\n",
              "</table>\n",
              "</div>"
            ],
            "text/plain": [
              "  Item  Value\n",
              "0    A      1\n",
              "1    B      2\n",
              "2    C      3\n",
              "3    D      5"
            ]
          },
          "metadata": {
            "tags": []
          },
          "execution_count": 6
        }
      ]
    },
    {
      "cell_type": "code",
      "metadata": {
        "colab": {
          "base_uri": "https://localhost:8080/",
          "height": 173
        },
        "id": "AvCcYsDxfXva",
        "outputId": "9417df49-6660-4b74-c3be-181f328f1536"
      },
      "source": [
        "df2"
      ],
      "execution_count": null,
      "outputs": [
        {
          "output_type": "execute_result",
          "data": {
            "text/html": [
              "<div>\n",
              "<style scoped>\n",
              "    .dataframe tbody tr th:only-of-type {\n",
              "        vertical-align: middle;\n",
              "    }\n",
              "\n",
              "    .dataframe tbody tr th {\n",
              "        vertical-align: top;\n",
              "    }\n",
              "\n",
              "    .dataframe thead th {\n",
              "        text-align: right;\n",
              "    }\n",
              "</style>\n",
              "<table border=\"1\" class=\"dataframe\">\n",
              "  <thead>\n",
              "    <tr style=\"text-align: right;\">\n",
              "      <th></th>\n",
              "      <th>Item</th>\n",
              "      <th>Value</th>\n",
              "    </tr>\n",
              "  </thead>\n",
              "  <tbody>\n",
              "    <tr>\n",
              "      <th>0</th>\n",
              "      <td>E</td>\n",
              "      <td>5</td>\n",
              "    </tr>\n",
              "    <tr>\n",
              "      <th>1</th>\n",
              "      <td>F</td>\n",
              "      <td>6</td>\n",
              "    </tr>\n",
              "    <tr>\n",
              "      <th>2</th>\n",
              "      <td>G</td>\n",
              "      <td>7</td>\n",
              "    </tr>\n",
              "    <tr>\n",
              "      <th>3</th>\n",
              "      <td>H</td>\n",
              "      <td>8</td>\n",
              "    </tr>\n",
              "  </tbody>\n",
              "</table>\n",
              "</div>"
            ],
            "text/plain": [
              "  Item  Value\n",
              "0    E      5\n",
              "1    F      6\n",
              "2    G      7\n",
              "3    H      8"
            ]
          },
          "metadata": {
            "tags": []
          },
          "execution_count": 7
        }
      ]
    },
    {
      "cell_type": "code",
      "metadata": {
        "colab": {
          "base_uri": "https://localhost:8080/",
          "height": 297
        },
        "id": "e94L3jMgfb8B",
        "outputId": "bb39347c-94ba-417f-f799-c179a9d12386"
      },
      "source": [
        "import pandas as pd\n",
        "df1 = pd.DataFrame({'Item':['A','B','C','D'],\n",
        "                     'Value': [1,2,3,5]})\n",
        "df2 = pd.DataFrame({'Item':['E','F','G','H'],\n",
        "                     'Quantity': [5,6,7,8]})\n",
        "pd.concat([df1,df2])"
      ],
      "execution_count": null,
      "outputs": [
        {
          "output_type": "execute_result",
          "data": {
            "text/html": [
              "<div>\n",
              "<style scoped>\n",
              "    .dataframe tbody tr th:only-of-type {\n",
              "        vertical-align: middle;\n",
              "    }\n",
              "\n",
              "    .dataframe tbody tr th {\n",
              "        vertical-align: top;\n",
              "    }\n",
              "\n",
              "    .dataframe thead th {\n",
              "        text-align: right;\n",
              "    }\n",
              "</style>\n",
              "<table border=\"1\" class=\"dataframe\">\n",
              "  <thead>\n",
              "    <tr style=\"text-align: right;\">\n",
              "      <th></th>\n",
              "      <th>Item</th>\n",
              "      <th>Value</th>\n",
              "      <th>Quantity</th>\n",
              "    </tr>\n",
              "  </thead>\n",
              "  <tbody>\n",
              "    <tr>\n",
              "      <th>0</th>\n",
              "      <td>A</td>\n",
              "      <td>1.0</td>\n",
              "      <td>NaN</td>\n",
              "    </tr>\n",
              "    <tr>\n",
              "      <th>1</th>\n",
              "      <td>B</td>\n",
              "      <td>2.0</td>\n",
              "      <td>NaN</td>\n",
              "    </tr>\n",
              "    <tr>\n",
              "      <th>2</th>\n",
              "      <td>C</td>\n",
              "      <td>3.0</td>\n",
              "      <td>NaN</td>\n",
              "    </tr>\n",
              "    <tr>\n",
              "      <th>3</th>\n",
              "      <td>D</td>\n",
              "      <td>5.0</td>\n",
              "      <td>NaN</td>\n",
              "    </tr>\n",
              "    <tr>\n",
              "      <th>0</th>\n",
              "      <td>E</td>\n",
              "      <td>NaN</td>\n",
              "      <td>5.0</td>\n",
              "    </tr>\n",
              "    <tr>\n",
              "      <th>1</th>\n",
              "      <td>F</td>\n",
              "      <td>NaN</td>\n",
              "      <td>6.0</td>\n",
              "    </tr>\n",
              "    <tr>\n",
              "      <th>2</th>\n",
              "      <td>G</td>\n",
              "      <td>NaN</td>\n",
              "      <td>7.0</td>\n",
              "    </tr>\n",
              "    <tr>\n",
              "      <th>3</th>\n",
              "      <td>H</td>\n",
              "      <td>NaN</td>\n",
              "      <td>8.0</td>\n",
              "    </tr>\n",
              "  </tbody>\n",
              "</table>\n",
              "</div>"
            ],
            "text/plain": [
              "  Item  Value  Quantity\n",
              "0    A    1.0       NaN\n",
              "1    B    2.0       NaN\n",
              "2    C    3.0       NaN\n",
              "3    D    5.0       NaN\n",
              "0    E    NaN       5.0\n",
              "1    F    NaN       6.0\n",
              "2    G    NaN       7.0\n",
              "3    H    NaN       8.0"
            ]
          },
          "metadata": {
            "tags": []
          },
          "execution_count": 9
        }
      ]
    },
    {
      "cell_type": "code",
      "metadata": {
        "colab": {
          "base_uri": "https://localhost:8080/",
          "height": 297
        },
        "id": "1xSp0jmeflzG",
        "outputId": "c3bd665d-e402-4f62-ae6b-70512017c5c0"
      },
      "source": [
        "import pandas as pd\n",
        "df1 = pd.DataFrame({'Item':['A','B','C','D'],\n",
        "                     'Value': [1,2,3,5]})\n",
        "df2 = pd.DataFrame({'Item':['E','F','G','H'],\n",
        "                     'Quantity': [5,6,7,8]})\n",
        "pd.concat([df1,df2]).reset_index()"
      ],
      "execution_count": null,
      "outputs": [
        {
          "output_type": "execute_result",
          "data": {
            "text/html": [
              "<div>\n",
              "<style scoped>\n",
              "    .dataframe tbody tr th:only-of-type {\n",
              "        vertical-align: middle;\n",
              "    }\n",
              "\n",
              "    .dataframe tbody tr th {\n",
              "        vertical-align: top;\n",
              "    }\n",
              "\n",
              "    .dataframe thead th {\n",
              "        text-align: right;\n",
              "    }\n",
              "</style>\n",
              "<table border=\"1\" class=\"dataframe\">\n",
              "  <thead>\n",
              "    <tr style=\"text-align: right;\">\n",
              "      <th></th>\n",
              "      <th>index</th>\n",
              "      <th>Item</th>\n",
              "      <th>Value</th>\n",
              "      <th>Quantity</th>\n",
              "    </tr>\n",
              "  </thead>\n",
              "  <tbody>\n",
              "    <tr>\n",
              "      <th>0</th>\n",
              "      <td>0</td>\n",
              "      <td>A</td>\n",
              "      <td>1.0</td>\n",
              "      <td>NaN</td>\n",
              "    </tr>\n",
              "    <tr>\n",
              "      <th>1</th>\n",
              "      <td>1</td>\n",
              "      <td>B</td>\n",
              "      <td>2.0</td>\n",
              "      <td>NaN</td>\n",
              "    </tr>\n",
              "    <tr>\n",
              "      <th>2</th>\n",
              "      <td>2</td>\n",
              "      <td>C</td>\n",
              "      <td>3.0</td>\n",
              "      <td>NaN</td>\n",
              "    </tr>\n",
              "    <tr>\n",
              "      <th>3</th>\n",
              "      <td>3</td>\n",
              "      <td>D</td>\n",
              "      <td>5.0</td>\n",
              "      <td>NaN</td>\n",
              "    </tr>\n",
              "    <tr>\n",
              "      <th>4</th>\n",
              "      <td>0</td>\n",
              "      <td>E</td>\n",
              "      <td>NaN</td>\n",
              "      <td>5.0</td>\n",
              "    </tr>\n",
              "    <tr>\n",
              "      <th>5</th>\n",
              "      <td>1</td>\n",
              "      <td>F</td>\n",
              "      <td>NaN</td>\n",
              "      <td>6.0</td>\n",
              "    </tr>\n",
              "    <tr>\n",
              "      <th>6</th>\n",
              "      <td>2</td>\n",
              "      <td>G</td>\n",
              "      <td>NaN</td>\n",
              "      <td>7.0</td>\n",
              "    </tr>\n",
              "    <tr>\n",
              "      <th>7</th>\n",
              "      <td>3</td>\n",
              "      <td>H</td>\n",
              "      <td>NaN</td>\n",
              "      <td>8.0</td>\n",
              "    </tr>\n",
              "  </tbody>\n",
              "</table>\n",
              "</div>"
            ],
            "text/plain": [
              "   index Item  Value  Quantity\n",
              "0      0    A    1.0       NaN\n",
              "1      1    B    2.0       NaN\n",
              "2      2    C    3.0       NaN\n",
              "3      3    D    5.0       NaN\n",
              "4      0    E    NaN       5.0\n",
              "5      1    F    NaN       6.0\n",
              "6      2    G    NaN       7.0\n",
              "7      3    H    NaN       8.0"
            ]
          },
          "metadata": {
            "tags": []
          },
          "execution_count": 11
        }
      ]
    },
    {
      "cell_type": "code",
      "metadata": {
        "colab": {
          "base_uri": "https://localhost:8080/",
          "height": 173
        },
        "id": "pqe_MN6PgOFM",
        "outputId": "ce1707b7-d0ce-43c3-fdcf-e85e55e2d1f3"
      },
      "source": [
        "pd.concat([df1,df2],axis=1)"
      ],
      "execution_count": null,
      "outputs": [
        {
          "output_type": "execute_result",
          "data": {
            "text/html": [
              "<div>\n",
              "<style scoped>\n",
              "    .dataframe tbody tr th:only-of-type {\n",
              "        vertical-align: middle;\n",
              "    }\n",
              "\n",
              "    .dataframe tbody tr th {\n",
              "        vertical-align: top;\n",
              "    }\n",
              "\n",
              "    .dataframe thead th {\n",
              "        text-align: right;\n",
              "    }\n",
              "</style>\n",
              "<table border=\"1\" class=\"dataframe\">\n",
              "  <thead>\n",
              "    <tr style=\"text-align: right;\">\n",
              "      <th></th>\n",
              "      <th>Item</th>\n",
              "      <th>Value</th>\n",
              "      <th>Item</th>\n",
              "      <th>Quantity</th>\n",
              "    </tr>\n",
              "  </thead>\n",
              "  <tbody>\n",
              "    <tr>\n",
              "      <th>0</th>\n",
              "      <td>A</td>\n",
              "      <td>1</td>\n",
              "      <td>E</td>\n",
              "      <td>5</td>\n",
              "    </tr>\n",
              "    <tr>\n",
              "      <th>1</th>\n",
              "      <td>B</td>\n",
              "      <td>2</td>\n",
              "      <td>F</td>\n",
              "      <td>6</td>\n",
              "    </tr>\n",
              "    <tr>\n",
              "      <th>2</th>\n",
              "      <td>C</td>\n",
              "      <td>3</td>\n",
              "      <td>G</td>\n",
              "      <td>7</td>\n",
              "    </tr>\n",
              "    <tr>\n",
              "      <th>3</th>\n",
              "      <td>D</td>\n",
              "      <td>5</td>\n",
              "      <td>H</td>\n",
              "      <td>8</td>\n",
              "    </tr>\n",
              "  </tbody>\n",
              "</table>\n",
              "</div>"
            ],
            "text/plain": [
              "  Item  Value Item  Quantity\n",
              "0    A      1    E         5\n",
              "1    B      2    F         6\n",
              "2    C      3    G         7\n",
              "3    D      5    H         8"
            ]
          },
          "metadata": {
            "tags": []
          },
          "execution_count": 12
        }
      ]
    },
    {
      "cell_type": "code",
      "metadata": {
        "colab": {
          "base_uri": "https://localhost:8080/",
          "height": 421
        },
        "id": "7DrSKINEgfGq",
        "outputId": "8afafdd7-a5b8-425b-8457-2960ae47199c"
      },
      "source": [
        "import pandas as pd\n",
        "df1 = pd.DataFrame({'Item':['A','B','C','D'],\n",
        "                     'Value': [1,2,3,5]})\n",
        "df2 = pd.DataFrame({'Item':['E','F','G','H'],\n",
        "                     'Quantity': [5,6,7,8]})\n",
        "df3 = pd.DataFrame({'Item':['I','J','K','L'],\n",
        "                     'Quantity': [3,9,10,80]})\n",
        "df1.append([df2,df3])"
      ],
      "execution_count": null,
      "outputs": [
        {
          "output_type": "execute_result",
          "data": {
            "text/html": [
              "<div>\n",
              "<style scoped>\n",
              "    .dataframe tbody tr th:only-of-type {\n",
              "        vertical-align: middle;\n",
              "    }\n",
              "\n",
              "    .dataframe tbody tr th {\n",
              "        vertical-align: top;\n",
              "    }\n",
              "\n",
              "    .dataframe thead th {\n",
              "        text-align: right;\n",
              "    }\n",
              "</style>\n",
              "<table border=\"1\" class=\"dataframe\">\n",
              "  <thead>\n",
              "    <tr style=\"text-align: right;\">\n",
              "      <th></th>\n",
              "      <th>Item</th>\n",
              "      <th>Value</th>\n",
              "      <th>Quantity</th>\n",
              "    </tr>\n",
              "  </thead>\n",
              "  <tbody>\n",
              "    <tr>\n",
              "      <th>0</th>\n",
              "      <td>A</td>\n",
              "      <td>1.0</td>\n",
              "      <td>NaN</td>\n",
              "    </tr>\n",
              "    <tr>\n",
              "      <th>1</th>\n",
              "      <td>B</td>\n",
              "      <td>2.0</td>\n",
              "      <td>NaN</td>\n",
              "    </tr>\n",
              "    <tr>\n",
              "      <th>2</th>\n",
              "      <td>C</td>\n",
              "      <td>3.0</td>\n",
              "      <td>NaN</td>\n",
              "    </tr>\n",
              "    <tr>\n",
              "      <th>3</th>\n",
              "      <td>D</td>\n",
              "      <td>5.0</td>\n",
              "      <td>NaN</td>\n",
              "    </tr>\n",
              "    <tr>\n",
              "      <th>0</th>\n",
              "      <td>E</td>\n",
              "      <td>NaN</td>\n",
              "      <td>5.0</td>\n",
              "    </tr>\n",
              "    <tr>\n",
              "      <th>1</th>\n",
              "      <td>F</td>\n",
              "      <td>NaN</td>\n",
              "      <td>6.0</td>\n",
              "    </tr>\n",
              "    <tr>\n",
              "      <th>2</th>\n",
              "      <td>G</td>\n",
              "      <td>NaN</td>\n",
              "      <td>7.0</td>\n",
              "    </tr>\n",
              "    <tr>\n",
              "      <th>3</th>\n",
              "      <td>H</td>\n",
              "      <td>NaN</td>\n",
              "      <td>8.0</td>\n",
              "    </tr>\n",
              "    <tr>\n",
              "      <th>0</th>\n",
              "      <td>I</td>\n",
              "      <td>NaN</td>\n",
              "      <td>3.0</td>\n",
              "    </tr>\n",
              "    <tr>\n",
              "      <th>1</th>\n",
              "      <td>J</td>\n",
              "      <td>NaN</td>\n",
              "      <td>9.0</td>\n",
              "    </tr>\n",
              "    <tr>\n",
              "      <th>2</th>\n",
              "      <td>K</td>\n",
              "      <td>NaN</td>\n",
              "      <td>10.0</td>\n",
              "    </tr>\n",
              "    <tr>\n",
              "      <th>3</th>\n",
              "      <td>L</td>\n",
              "      <td>NaN</td>\n",
              "      <td>80.0</td>\n",
              "    </tr>\n",
              "  </tbody>\n",
              "</table>\n",
              "</div>"
            ],
            "text/plain": [
              "  Item  Value  Quantity\n",
              "0    A    1.0       NaN\n",
              "1    B    2.0       NaN\n",
              "2    C    3.0       NaN\n",
              "3    D    5.0       NaN\n",
              "0    E    NaN       5.0\n",
              "1    F    NaN       6.0\n",
              "2    G    NaN       7.0\n",
              "3    H    NaN       8.0\n",
              "0    I    NaN       3.0\n",
              "1    J    NaN       9.0\n",
              "2    K    NaN      10.0\n",
              "3    L    NaN      80.0"
            ]
          },
          "metadata": {
            "tags": []
          },
          "execution_count": 14
        }
      ]
    },
    {
      "cell_type": "code",
      "metadata": {
        "colab": {
          "base_uri": "https://localhost:8080/",
          "height": 49
        },
        "id": "Cq0KqNo4hkaf",
        "outputId": "861d6879-29b3-480f-f1c4-91817a05b10c"
      },
      "source": [
        "import pandas as pd\n",
        "dfA = pd.DataFrame({'Key':['A','B','C','D'],\n",
        "                     'A': [1,2,3,5]})\n",
        "dfB = pd.DataFrame({'Key':['E','F','G','H'],\n",
        "                     'B': [5,6,7,8]})\n",
        "pd.merge(dfA,dfB,on='Key')"
      ],
      "execution_count": null,
      "outputs": [
        {
          "output_type": "execute_result",
          "data": {
            "text/html": [
              "<div>\n",
              "<style scoped>\n",
              "    .dataframe tbody tr th:only-of-type {\n",
              "        vertical-align: middle;\n",
              "    }\n",
              "\n",
              "    .dataframe tbody tr th {\n",
              "        vertical-align: top;\n",
              "    }\n",
              "\n",
              "    .dataframe thead th {\n",
              "        text-align: right;\n",
              "    }\n",
              "</style>\n",
              "<table border=\"1\" class=\"dataframe\">\n",
              "  <thead>\n",
              "    <tr style=\"text-align: right;\">\n",
              "      <th></th>\n",
              "      <th>Key</th>\n",
              "      <th>A</th>\n",
              "      <th>B</th>\n",
              "    </tr>\n",
              "  </thead>\n",
              "  <tbody>\n",
              "  </tbody>\n",
              "</table>\n",
              "</div>"
            ],
            "text/plain": [
              "Empty DataFrame\n",
              "Columns: [Key, A, B]\n",
              "Index: []"
            ]
          },
          "metadata": {
            "tags": []
          },
          "execution_count": 16
        }
      ]
    },
    {
      "cell_type": "code",
      "metadata": {
        "colab": {
          "base_uri": "https://localhost:8080/",
          "height": 173
        },
        "id": "zcCUKHBTiLoc",
        "outputId": "85ae370a-66d6-44c3-e266-50030e9c34a1"
      },
      "source": [
        "import pandas as pd\n",
        "dfA = pd.DataFrame({'Key':['K0','K1','K2','K3'],\n",
        "                     'A': ['A0','A1','A2','A3'],\n",
        "                    'B': ['B0','B1','B2','B3']})\n",
        "dfB = pd.DataFrame({'Key':['K0','K1','K2','K3'],\n",
        "                     'C': ['C0','C1','C2','C3'],\n",
        "                     'D': ['D0','D1','D2','D3']})\n",
        "pd.merge(dfA,dfB,on='Key')"
      ],
      "execution_count": null,
      "outputs": [
        {
          "output_type": "execute_result",
          "data": {
            "text/html": [
              "<div>\n",
              "<style scoped>\n",
              "    .dataframe tbody tr th:only-of-type {\n",
              "        vertical-align: middle;\n",
              "    }\n",
              "\n",
              "    .dataframe tbody tr th {\n",
              "        vertical-align: top;\n",
              "    }\n",
              "\n",
              "    .dataframe thead th {\n",
              "        text-align: right;\n",
              "    }\n",
              "</style>\n",
              "<table border=\"1\" class=\"dataframe\">\n",
              "  <thead>\n",
              "    <tr style=\"text-align: right;\">\n",
              "      <th></th>\n",
              "      <th>Key</th>\n",
              "      <th>A</th>\n",
              "      <th>B</th>\n",
              "      <th>C</th>\n",
              "      <th>D</th>\n",
              "    </tr>\n",
              "  </thead>\n",
              "  <tbody>\n",
              "    <tr>\n",
              "      <th>0</th>\n",
              "      <td>K0</td>\n",
              "      <td>A0</td>\n",
              "      <td>B0</td>\n",
              "      <td>C0</td>\n",
              "      <td>D0</td>\n",
              "    </tr>\n",
              "    <tr>\n",
              "      <th>1</th>\n",
              "      <td>K1</td>\n",
              "      <td>A1</td>\n",
              "      <td>B1</td>\n",
              "      <td>C1</td>\n",
              "      <td>D1</td>\n",
              "    </tr>\n",
              "    <tr>\n",
              "      <th>2</th>\n",
              "      <td>K2</td>\n",
              "      <td>A2</td>\n",
              "      <td>B2</td>\n",
              "      <td>C2</td>\n",
              "      <td>D2</td>\n",
              "    </tr>\n",
              "    <tr>\n",
              "      <th>3</th>\n",
              "      <td>K3</td>\n",
              "      <td>A3</td>\n",
              "      <td>B3</td>\n",
              "      <td>C3</td>\n",
              "      <td>D3</td>\n",
              "    </tr>\n",
              "  </tbody>\n",
              "</table>\n",
              "</div>"
            ],
            "text/plain": [
              "  Key   A   B   C   D\n",
              "0  K0  A0  B0  C0  D0\n",
              "1  K1  A1  B1  C1  D1\n",
              "2  K2  A2  B2  C2  D2\n",
              "3  K3  A3  B3  C3  D3"
            ]
          },
          "metadata": {
            "tags": []
          },
          "execution_count": 17
        }
      ]
    },
    {
      "cell_type": "code",
      "metadata": {
        "colab": {
          "base_uri": "https://localhost:8080/",
          "height": 173
        },
        "id": "vvPzJE-OjW92",
        "outputId": "be72d9b2-3ed9-4352-a310-9ac72a8a56a0"
      },
      "source": [
        "import pandas as pd\n",
        "dfA = pd.DataFrame({'Key':['K0','K1','K2','K3'],\n",
        "                     'A': ['A0','A1','A2','A3'],\n",
        "                    'B': ['B0','B1','B2','B3']})\n",
        "dfB = pd.DataFrame({'Key':['K0','K1','K2','K3'],\n",
        "                     'C': ['C0','C1','C2','C3'],\n",
        "                     'D': ['D0','D1','D2','D3']})\n",
        "pd.merge(dfA,dfB, how='left',on='Key')"
      ],
      "execution_count": null,
      "outputs": [
        {
          "output_type": "execute_result",
          "data": {
            "text/html": [
              "<div>\n",
              "<style scoped>\n",
              "    .dataframe tbody tr th:only-of-type {\n",
              "        vertical-align: middle;\n",
              "    }\n",
              "\n",
              "    .dataframe tbody tr th {\n",
              "        vertical-align: top;\n",
              "    }\n",
              "\n",
              "    .dataframe thead th {\n",
              "        text-align: right;\n",
              "    }\n",
              "</style>\n",
              "<table border=\"1\" class=\"dataframe\">\n",
              "  <thead>\n",
              "    <tr style=\"text-align: right;\">\n",
              "      <th></th>\n",
              "      <th>Key</th>\n",
              "      <th>A</th>\n",
              "      <th>B</th>\n",
              "      <th>C</th>\n",
              "      <th>D</th>\n",
              "    </tr>\n",
              "  </thead>\n",
              "  <tbody>\n",
              "    <tr>\n",
              "      <th>0</th>\n",
              "      <td>K0</td>\n",
              "      <td>A0</td>\n",
              "      <td>B0</td>\n",
              "      <td>C0</td>\n",
              "      <td>D0</td>\n",
              "    </tr>\n",
              "    <tr>\n",
              "      <th>1</th>\n",
              "      <td>K1</td>\n",
              "      <td>A1</td>\n",
              "      <td>B1</td>\n",
              "      <td>C1</td>\n",
              "      <td>D1</td>\n",
              "    </tr>\n",
              "    <tr>\n",
              "      <th>2</th>\n",
              "      <td>K2</td>\n",
              "      <td>A2</td>\n",
              "      <td>B2</td>\n",
              "      <td>C2</td>\n",
              "      <td>D2</td>\n",
              "    </tr>\n",
              "    <tr>\n",
              "      <th>3</th>\n",
              "      <td>K3</td>\n",
              "      <td>A3</td>\n",
              "      <td>B3</td>\n",
              "      <td>C3</td>\n",
              "      <td>D3</td>\n",
              "    </tr>\n",
              "  </tbody>\n",
              "</table>\n",
              "</div>"
            ],
            "text/plain": [
              "  Key   A   B   C   D\n",
              "0  K0  A0  B0  C0  D0\n",
              "1  K1  A1  B1  C1  D1\n",
              "2  K2  A2  B2  C2  D2\n",
              "3  K3  A3  B3  C3  D3"
            ]
          },
          "metadata": {
            "tags": []
          },
          "execution_count": 20
        }
      ]
    },
    {
      "cell_type": "code",
      "metadata": {
        "colab": {
          "base_uri": "https://localhost:8080/",
          "height": 173
        },
        "id": "enShfEr9j0wk",
        "outputId": "6ecf9e33-2782-4472-9e2c-1731180f1161"
      },
      "source": [
        "import pandas as pd\n",
        "dfA = pd.DataFrame({'Key':['K0','K1','K2','K3'],\n",
        "                     'A': ['A0','A1','A2','A3'],\n",
        "                    'B': ['B0','B1','B2','B3']})\n",
        "dfB = pd.DataFrame({'Key':['K0','K1','K2','K3'],\n",
        "                     'C': ['C0','C1','C2','C3'],\n",
        "                     'D': ['D0','D1','D2','D3']})\n",
        "pd.merge(dfA,dfB, how='right',on='Key')"
      ],
      "execution_count": null,
      "outputs": [
        {
          "output_type": "execute_result",
          "data": {
            "text/html": [
              "<div>\n",
              "<style scoped>\n",
              "    .dataframe tbody tr th:only-of-type {\n",
              "        vertical-align: middle;\n",
              "    }\n",
              "\n",
              "    .dataframe tbody tr th {\n",
              "        vertical-align: top;\n",
              "    }\n",
              "\n",
              "    .dataframe thead th {\n",
              "        text-align: right;\n",
              "    }\n",
              "</style>\n",
              "<table border=\"1\" class=\"dataframe\">\n",
              "  <thead>\n",
              "    <tr style=\"text-align: right;\">\n",
              "      <th></th>\n",
              "      <th>Key</th>\n",
              "      <th>A</th>\n",
              "      <th>B</th>\n",
              "      <th>C</th>\n",
              "      <th>D</th>\n",
              "    </tr>\n",
              "  </thead>\n",
              "  <tbody>\n",
              "    <tr>\n",
              "      <th>0</th>\n",
              "      <td>K0</td>\n",
              "      <td>A0</td>\n",
              "      <td>B0</td>\n",
              "      <td>C0</td>\n",
              "      <td>D0</td>\n",
              "    </tr>\n",
              "    <tr>\n",
              "      <th>1</th>\n",
              "      <td>K1</td>\n",
              "      <td>A1</td>\n",
              "      <td>B1</td>\n",
              "      <td>C1</td>\n",
              "      <td>D1</td>\n",
              "    </tr>\n",
              "    <tr>\n",
              "      <th>2</th>\n",
              "      <td>K2</td>\n",
              "      <td>A2</td>\n",
              "      <td>B2</td>\n",
              "      <td>C2</td>\n",
              "      <td>D2</td>\n",
              "    </tr>\n",
              "    <tr>\n",
              "      <th>3</th>\n",
              "      <td>K3</td>\n",
              "      <td>A3</td>\n",
              "      <td>B3</td>\n",
              "      <td>C3</td>\n",
              "      <td>D3</td>\n",
              "    </tr>\n",
              "  </tbody>\n",
              "</table>\n",
              "</div>"
            ],
            "text/plain": [
              "  Key   A   B   C   D\n",
              "0  K0  A0  B0  C0  D0\n",
              "1  K1  A1  B1  C1  D1\n",
              "2  K2  A2  B2  C2  D2\n",
              "3  K3  A3  B3  C3  D3"
            ]
          },
          "metadata": {
            "tags": []
          },
          "execution_count": 21
        }
      ]
    },
    {
      "cell_type": "code",
      "metadata": {
        "colab": {
          "base_uri": "https://localhost:8080/",
          "height": 173
        },
        "id": "XzUL7ul9kDJ8",
        "outputId": "5bab6e62-55aa-4603-eba4-ef01baea7824"
      },
      "source": [
        "import pandas as pd\n",
        "dfA = pd.DataFrame({'Key':['K0','K1','K2','K3'],\n",
        "                     'A': ['A0','A1','A2','A3'],\n",
        "                    'B': ['B0','B1','B2','B3']})\n",
        "dfB = pd.DataFrame({'Key':['K0','K1','K2','K3'],\n",
        "                     'C': ['C0','C1','C2','C3'],\n",
        "                     'D': ['D0','D1','D2','D3']})\n",
        "pd.merge(dfA,dfB, how='inner',on='Key')"
      ],
      "execution_count": null,
      "outputs": [
        {
          "output_type": "execute_result",
          "data": {
            "text/html": [
              "<div>\n",
              "<style scoped>\n",
              "    .dataframe tbody tr th:only-of-type {\n",
              "        vertical-align: middle;\n",
              "    }\n",
              "\n",
              "    .dataframe tbody tr th {\n",
              "        vertical-align: top;\n",
              "    }\n",
              "\n",
              "    .dataframe thead th {\n",
              "        text-align: right;\n",
              "    }\n",
              "</style>\n",
              "<table border=\"1\" class=\"dataframe\">\n",
              "  <thead>\n",
              "    <tr style=\"text-align: right;\">\n",
              "      <th></th>\n",
              "      <th>Key</th>\n",
              "      <th>A</th>\n",
              "      <th>B</th>\n",
              "      <th>C</th>\n",
              "      <th>D</th>\n",
              "    </tr>\n",
              "  </thead>\n",
              "  <tbody>\n",
              "    <tr>\n",
              "      <th>0</th>\n",
              "      <td>K0</td>\n",
              "      <td>A0</td>\n",
              "      <td>B0</td>\n",
              "      <td>C0</td>\n",
              "      <td>D0</td>\n",
              "    </tr>\n",
              "    <tr>\n",
              "      <th>1</th>\n",
              "      <td>K1</td>\n",
              "      <td>A1</td>\n",
              "      <td>B1</td>\n",
              "      <td>C1</td>\n",
              "      <td>D1</td>\n",
              "    </tr>\n",
              "    <tr>\n",
              "      <th>2</th>\n",
              "      <td>K2</td>\n",
              "      <td>A2</td>\n",
              "      <td>B2</td>\n",
              "      <td>C2</td>\n",
              "      <td>D2</td>\n",
              "    </tr>\n",
              "    <tr>\n",
              "      <th>3</th>\n",
              "      <td>K3</td>\n",
              "      <td>A3</td>\n",
              "      <td>B3</td>\n",
              "      <td>C3</td>\n",
              "      <td>D3</td>\n",
              "    </tr>\n",
              "  </tbody>\n",
              "</table>\n",
              "</div>"
            ],
            "text/plain": [
              "  Key   A   B   C   D\n",
              "0  K0  A0  B0  C0  D0\n",
              "1  K1  A1  B1  C1  D1\n",
              "2  K2  A2  B2  C2  D2\n",
              "3  K3  A3  B3  C3  D3"
            ]
          },
          "metadata": {
            "tags": []
          },
          "execution_count": 23
        }
      ]
    },
    {
      "cell_type": "markdown",
      "metadata": {
        "id": "KqbPGBJjkUJK"
      },
      "source": [
        "**JOINGING**"
      ]
    },
    {
      "cell_type": "code",
      "metadata": {
        "id": "1e1AeDMskJtA"
      },
      "source": [
        "import pandas as pd\n",
        "left = pd.DataFrame({'Key':['K0','K1','K2','K3'],\n",
        "                     'A': ['A0','A1','A2','A3']},\n",
        "                     index= ['B0','B1','B2','B3'])"
      ],
      "execution_count": null,
      "outputs": []
    },
    {
      "cell_type": "code",
      "metadata": {
        "colab": {
          "base_uri": "https://localhost:8080/",
          "height": 173
        },
        "id": "IhIyHXiwkreW",
        "outputId": "c74b722b-b349-4a02-b566-e47cf5292c46"
      },
      "source": [
        "left"
      ],
      "execution_count": null,
      "outputs": [
        {
          "output_type": "execute_result",
          "data": {
            "text/html": [
              "<div>\n",
              "<style scoped>\n",
              "    .dataframe tbody tr th:only-of-type {\n",
              "        vertical-align: middle;\n",
              "    }\n",
              "\n",
              "    .dataframe tbody tr th {\n",
              "        vertical-align: top;\n",
              "    }\n",
              "\n",
              "    .dataframe thead th {\n",
              "        text-align: right;\n",
              "    }\n",
              "</style>\n",
              "<table border=\"1\" class=\"dataframe\">\n",
              "  <thead>\n",
              "    <tr style=\"text-align: right;\">\n",
              "      <th></th>\n",
              "      <th>Key</th>\n",
              "      <th>A</th>\n",
              "    </tr>\n",
              "  </thead>\n",
              "  <tbody>\n",
              "    <tr>\n",
              "      <th>B0</th>\n",
              "      <td>K0</td>\n",
              "      <td>A0</td>\n",
              "    </tr>\n",
              "    <tr>\n",
              "      <th>B1</th>\n",
              "      <td>K1</td>\n",
              "      <td>A1</td>\n",
              "    </tr>\n",
              "    <tr>\n",
              "      <th>B2</th>\n",
              "      <td>K2</td>\n",
              "      <td>A2</td>\n",
              "    </tr>\n",
              "    <tr>\n",
              "      <th>B3</th>\n",
              "      <td>K3</td>\n",
              "      <td>A3</td>\n",
              "    </tr>\n",
              "  </tbody>\n",
              "</table>\n",
              "</div>"
            ],
            "text/plain": [
              "   Key   A\n",
              "B0  K0  A0\n",
              "B1  K1  A1\n",
              "B2  K2  A2\n",
              "B3  K3  A3"
            ]
          },
          "metadata": {
            "tags": []
          },
          "execution_count": 35
        }
      ]
    },
    {
      "cell_type": "code",
      "metadata": {
        "id": "x9hp5_cIk3Kk"
      },
      "source": [
        "right = pd.DataFrame({'C':['C0','C1','C2',],\n",
        "                     'D': ['D0','D1','D2',]},\n",
        "                     index= ['K0','K1','K2',])"
      ],
      "execution_count": null,
      "outputs": []
    },
    {
      "cell_type": "code",
      "metadata": {
        "colab": {
          "base_uri": "https://localhost:8080/",
          "height": 142
        },
        "id": "rPgEyFl6lAI-",
        "outputId": "396d1585-7eff-404b-9334-d541adaa8cc9"
      },
      "source": [
        "right"
      ],
      "execution_count": null,
      "outputs": [
        {
          "output_type": "execute_result",
          "data": {
            "text/html": [
              "<div>\n",
              "<style scoped>\n",
              "    .dataframe tbody tr th:only-of-type {\n",
              "        vertical-align: middle;\n",
              "    }\n",
              "\n",
              "    .dataframe tbody tr th {\n",
              "        vertical-align: top;\n",
              "    }\n",
              "\n",
              "    .dataframe thead th {\n",
              "        text-align: right;\n",
              "    }\n",
              "</style>\n",
              "<table border=\"1\" class=\"dataframe\">\n",
              "  <thead>\n",
              "    <tr style=\"text-align: right;\">\n",
              "      <th></th>\n",
              "      <th>C</th>\n",
              "      <th>D</th>\n",
              "    </tr>\n",
              "  </thead>\n",
              "  <tbody>\n",
              "    <tr>\n",
              "      <th>K0</th>\n",
              "      <td>C0</td>\n",
              "      <td>D0</td>\n",
              "    </tr>\n",
              "    <tr>\n",
              "      <th>K1</th>\n",
              "      <td>C1</td>\n",
              "      <td>D1</td>\n",
              "    </tr>\n",
              "    <tr>\n",
              "      <th>K2</th>\n",
              "      <td>C2</td>\n",
              "      <td>D2</td>\n",
              "    </tr>\n",
              "  </tbody>\n",
              "</table>\n",
              "</div>"
            ],
            "text/plain": [
              "     C   D\n",
              "K0  C0  D0\n",
              "K1  C1  D1\n",
              "K2  C2  D2"
            ]
          },
          "metadata": {
            "tags": []
          },
          "execution_count": 39
        }
      ]
    },
    {
      "cell_type": "code",
      "metadata": {
        "colab": {
          "base_uri": "https://localhost:8080/",
          "height": 173
        },
        "id": "CCSXJMlulC38",
        "outputId": "85a86bb0-b1e6-4368-dc46-3749892c88cd"
      },
      "source": [
        "left.join(right)"
      ],
      "execution_count": null,
      "outputs": [
        {
          "output_type": "execute_result",
          "data": {
            "text/html": [
              "<div>\n",
              "<style scoped>\n",
              "    .dataframe tbody tr th:only-of-type {\n",
              "        vertical-align: middle;\n",
              "    }\n",
              "\n",
              "    .dataframe tbody tr th {\n",
              "        vertical-align: top;\n",
              "    }\n",
              "\n",
              "    .dataframe thead th {\n",
              "        text-align: right;\n",
              "    }\n",
              "</style>\n",
              "<table border=\"1\" class=\"dataframe\">\n",
              "  <thead>\n",
              "    <tr style=\"text-align: right;\">\n",
              "      <th></th>\n",
              "      <th>Key</th>\n",
              "      <th>A</th>\n",
              "      <th>C</th>\n",
              "      <th>D</th>\n",
              "    </tr>\n",
              "  </thead>\n",
              "  <tbody>\n",
              "    <tr>\n",
              "      <th>B0</th>\n",
              "      <td>K0</td>\n",
              "      <td>A0</td>\n",
              "      <td>NaN</td>\n",
              "      <td>NaN</td>\n",
              "    </tr>\n",
              "    <tr>\n",
              "      <th>B1</th>\n",
              "      <td>K1</td>\n",
              "      <td>A1</td>\n",
              "      <td>NaN</td>\n",
              "      <td>NaN</td>\n",
              "    </tr>\n",
              "    <tr>\n",
              "      <th>B2</th>\n",
              "      <td>K2</td>\n",
              "      <td>A2</td>\n",
              "      <td>NaN</td>\n",
              "      <td>NaN</td>\n",
              "    </tr>\n",
              "    <tr>\n",
              "      <th>B3</th>\n",
              "      <td>K3</td>\n",
              "      <td>A3</td>\n",
              "      <td>NaN</td>\n",
              "      <td>NaN</td>\n",
              "    </tr>\n",
              "  </tbody>\n",
              "</table>\n",
              "</div>"
            ],
            "text/plain": [
              "   Key   A    C    D\n",
              "B0  K0  A0  NaN  NaN\n",
              "B1  K1  A1  NaN  NaN\n",
              "B2  K2  A2  NaN  NaN\n",
              "B3  K3  A3  NaN  NaN"
            ]
          },
          "metadata": {
            "tags": []
          },
          "execution_count": 40
        }
      ]
    },
    {
      "cell_type": "code",
      "metadata": {
        "colab": {
          "base_uri": "https://localhost:8080/",
          "height": 266
        },
        "id": "oUBKOfwMlQF1",
        "outputId": "06905bdf-a6a3-4e84-9a69-4602f03adc11"
      },
      "source": [
        "left.join(right,how='outer')"
      ],
      "execution_count": null,
      "outputs": [
        {
          "output_type": "execute_result",
          "data": {
            "text/html": [
              "<div>\n",
              "<style scoped>\n",
              "    .dataframe tbody tr th:only-of-type {\n",
              "        vertical-align: middle;\n",
              "    }\n",
              "\n",
              "    .dataframe tbody tr th {\n",
              "        vertical-align: top;\n",
              "    }\n",
              "\n",
              "    .dataframe thead th {\n",
              "        text-align: right;\n",
              "    }\n",
              "</style>\n",
              "<table border=\"1\" class=\"dataframe\">\n",
              "  <thead>\n",
              "    <tr style=\"text-align: right;\">\n",
              "      <th></th>\n",
              "      <th>Key</th>\n",
              "      <th>A</th>\n",
              "      <th>C</th>\n",
              "      <th>D</th>\n",
              "    </tr>\n",
              "  </thead>\n",
              "  <tbody>\n",
              "    <tr>\n",
              "      <th>B0</th>\n",
              "      <td>K0</td>\n",
              "      <td>A0</td>\n",
              "      <td>NaN</td>\n",
              "      <td>NaN</td>\n",
              "    </tr>\n",
              "    <tr>\n",
              "      <th>B1</th>\n",
              "      <td>K1</td>\n",
              "      <td>A1</td>\n",
              "      <td>NaN</td>\n",
              "      <td>NaN</td>\n",
              "    </tr>\n",
              "    <tr>\n",
              "      <th>B2</th>\n",
              "      <td>K2</td>\n",
              "      <td>A2</td>\n",
              "      <td>NaN</td>\n",
              "      <td>NaN</td>\n",
              "    </tr>\n",
              "    <tr>\n",
              "      <th>B3</th>\n",
              "      <td>K3</td>\n",
              "      <td>A3</td>\n",
              "      <td>NaN</td>\n",
              "      <td>NaN</td>\n",
              "    </tr>\n",
              "    <tr>\n",
              "      <th>K0</th>\n",
              "      <td>NaN</td>\n",
              "      <td>NaN</td>\n",
              "      <td>C0</td>\n",
              "      <td>D0</td>\n",
              "    </tr>\n",
              "    <tr>\n",
              "      <th>K1</th>\n",
              "      <td>NaN</td>\n",
              "      <td>NaN</td>\n",
              "      <td>C1</td>\n",
              "      <td>D1</td>\n",
              "    </tr>\n",
              "    <tr>\n",
              "      <th>K2</th>\n",
              "      <td>NaN</td>\n",
              "      <td>NaN</td>\n",
              "      <td>C2</td>\n",
              "      <td>D2</td>\n",
              "    </tr>\n",
              "  </tbody>\n",
              "</table>\n",
              "</div>"
            ],
            "text/plain": [
              "    Key    A    C    D\n",
              "B0   K0   A0  NaN  NaN\n",
              "B1   K1   A1  NaN  NaN\n",
              "B2   K2   A2  NaN  NaN\n",
              "B3   K3   A3  NaN  NaN\n",
              "K0  NaN  NaN   C0   D0\n",
              "K1  NaN  NaN   C1   D1\n",
              "K2  NaN  NaN   C2   D2"
            ]
          },
          "metadata": {
            "tags": []
          },
          "execution_count": 41
        }
      ]
    },
    {
      "cell_type": "code",
      "metadata": {
        "id": "ia4XHkGYmzuq"
      },
      "source": [
        "# Python program for finding H.C.F of two input numbers\n",
        "\n",
        "def computeHCF(x,y):\n",
        "\n",
        "# chosse the smaller number\n",
        "    if x>y:\n",
        "      smaller = y\n",
        "    else:\n",
        "      smaller = x\n",
        "    for i in range(1, smaller+1):\n",
        "       if ((x % i == 0) and (y % i == 0)):\n",
        "         hcf =i\n",
        "\n",
        "    "
      ],
      "execution_count": null,
      "outputs": []
    },
    {
      "cell_type": "code",
      "metadata": {
        "id": "kqb9BVJTmg8z",
        "colab": {
          "base_uri": "https://localhost:8080/"
        },
        "outputId": "100e2df1-37e4-4648-b570-16878943b974"
      },
      "source": [
        "def computeHCF(x, y):\n",
        "\n",
        "# choose the smaller number\n",
        "    if x > y:\n",
        "        smaller = y\n",
        "    else:\n",
        "        smaller = x\n",
        "    for i in range(1, smaller+1):\n",
        "        if((x % i == 0) and (y % i == 0)):\n",
        "            hcf = i\n",
        "            \n",
        "    return hcf\n",
        "\n",
        "\n",
        "num1 = int(input(\"Enter first number: \"))\n",
        "num2 = int(input(\"Enter second number: \"))\n",
        "\n",
        "print(\"The H.C.F. of\", num1,\"and\", num2,\"is\", computeHCF(num1, num2))\n",
        "   "
      ],
      "execution_count": null,
      "outputs": [
        {
          "output_type": "stream",
          "text": [
            "Enter first number: 12\n",
            "Enter second number: 24\n",
            "The H.C.F. of 12 and 24 is 12\n"
          ],
          "name": "stdout"
        }
      ]
    },
    {
      "cell_type": "code",
      "metadata": {
        "id": "xNJK0f_xqK0z",
        "colab": {
          "base_uri": "https://localhost:8080/"
        },
        "outputId": "edf1f516-956b-4244-c9f5-e4c84893ebcf"
      },
      "source": [
        "def computeHCF(x,y): \n",
        "  # chosse the smaller number if x>y: \n",
        "    if x > y:\n",
        "     smaller = y\n",
        "    else:\n",
        "      smaller = x \n",
        "    for i in range(1, smaller+1): \n",
        "       if ((x % i == 0) and (y % i == 0)): \n",
        "            hcf = i \n",
        "     \n",
        "     \n",
        "       return hcf\n",
        "\n",
        "       \n",
        "num1 = int(input(\"Enter first number:\")) \n",
        "num2 = int(input(\"Enter second number:\")) \n",
        "print(\"The H.C.F of\",num1,\"and\",num2,\"is\", computeHCF(num1,num2))"
      ],
      "execution_count": null,
      "outputs": [
        {
          "output_type": "stream",
          "text": [
            "Enter first number:23\n",
            "Enter second number:45\n",
            "The H.C.F of 23 and 45 is 1\n"
          ],
          "name": "stdout"
        }
      ]
    },
    {
      "cell_type": "markdown",
      "metadata": {
        "id": "oQSk4pPsTnKB"
      },
      "source": [
        "Phyton Dictionaries"
      ]
    },
    {
      "cell_type": "code",
      "metadata": {
        "id": "7lwphiDQbFw5",
        "colab": {
          "base_uri": "https://localhost:8080/"
        },
        "outputId": "c958ed74-356b-4039-d36d-52d5012cfb6c"
      },
      "source": [
        "thisdict = {\n",
        "    \"brand\": \"Ford\",\n",
        "    \"Model\": \"Musttang\",\n",
        "    \"Year\": \"1990\"\n",
        "      }\n",
        "print(thisdict)"
      ],
      "execution_count": null,
      "outputs": [
        {
          "output_type": "stream",
          "text": [
            "{'brand': 'Ford', 'Model': 'Musttang', 'Year': '1990'}\n"
          ],
          "name": "stdout"
        }
      ]
    },
    {
      "cell_type": "code",
      "metadata": {
        "colab": {
          "base_uri": "https://localhost:8080/"
        },
        "id": "IPjTCSiLUIvG",
        "outputId": "d9e937fa-826e-40fc-cce8-ea10e980da22"
      },
      "source": [
        "thisdict = {\n",
        "    \"Country\": \"India\",\n",
        "    \"States\": \"29\",\n",
        "    \"Uinon tertoary\": \"6\"\n",
        "      }\n",
        "print(thisdict)"
      ],
      "execution_count": null,
      "outputs": [
        {
          "output_type": "stream",
          "text": [
            "{'Country': 'India', 'States': '29', 'Uinon tertoary': '6'}\n"
          ],
          "name": "stdout"
        }
      ]
    },
    {
      "cell_type": "code",
      "metadata": {
        "colab": {
          "base_uri": "https://localhost:8080/"
        },
        "id": "qlfME5OkUkpc",
        "outputId": "e280a48f-e642-434b-e63c-f7e3be9ff08b"
      },
      "source": [
        "thisdict = {\n",
        "    \"brand\": \"Ford\",\n",
        "    \"Model\": \"Musttang\",\n",
        "    \"Year\": \"1990\",\n",
        "    \"Country\": \"INDIA\"\n",
        "      }\n",
        "print(thisdict['Country'])"
      ],
      "execution_count": null,
      "outputs": [
        {
          "output_type": "stream",
          "text": [
            "INDIA\n"
          ],
          "name": "stdout"
        }
      ]
    },
    {
      "cell_type": "code",
      "metadata": {
        "colab": {
          "base_uri": "https://localhost:8080/"
        },
        "id": "8UL4BPl9U1Vn",
        "outputId": "60305d73-d022-4222-a8d1-f795a294854c"
      },
      "source": [
        "thisdict = {\n",
        "    \"brand\": \"Ford\",\n",
        "    \"Model\": \"Musttang\",\n",
        "    \"Year\": \"1990\",\n",
        "    \"Country\": \"INDIA\"\n",
        "      }\n",
        "print(thisdict['Year'])"
      ],
      "execution_count": null,
      "outputs": [
        {
          "output_type": "stream",
          "text": [
            "1990\n"
          ],
          "name": "stdout"
        }
      ]
    },
    {
      "cell_type": "code",
      "metadata": {
        "colab": {
          "base_uri": "https://localhost:8080/"
        },
        "id": "x-283SNNVBfk",
        "outputId": "175e67ab-0a2c-465b-ac83-2592d9539cb9"
      },
      "source": [
        "thisdict = {\n",
        "    \"brand\": \"Ford\",\n",
        "    \"Model\": \"Musttang\",\n",
        "    \"Year\": \"1990\",\n",
        "    \"Country\": \"INDIA\",\n",
        "    \"Year\": \"2020\"\n",
        "      }\n",
        "print(thisdict['Year'])"
      ],
      "execution_count": null,
      "outputs": [
        {
          "output_type": "stream",
          "text": [
            "2020\n"
          ],
          "name": "stdout"
        }
      ]
    },
    {
      "cell_type": "code",
      "metadata": {
        "colab": {
          "base_uri": "https://localhost:8080/"
        },
        "id": "kuP4hMYNVhRC",
        "outputId": "b1965e9e-ee25-4e78-c2fc-f3223d72c709"
      },
      "source": [
        "thisdict = {\n",
        "    \"brand\": \"Ford\",\n",
        "    \"Model\": \"Musttang\",\n",
        "    \"Year\": \"1990\",\n",
        "    \"Country\": \"INDIA\"\n",
        "   \n",
        "      }\n",
        "print(thisdict['brand'])"
      ],
      "execution_count": null,
      "outputs": [
        {
          "output_type": "stream",
          "text": [
            "Ford\n"
          ],
          "name": "stdout"
        }
      ]
    },
    {
      "cell_type": "code",
      "metadata": {
        "colab": {
          "base_uri": "https://localhost:8080/"
        },
        "id": "bzTrPjWKWx19",
        "outputId": "95b5b5e4-99fc-46dd-d30f-47354efe1fe3"
      },
      "source": [
        "print(len(thisdict))"
      ],
      "execution_count": null,
      "outputs": [
        {
          "output_type": "stream",
          "text": [
            "4\n"
          ],
          "name": "stdout"
        }
      ]
    },
    {
      "cell_type": "code",
      "metadata": {
        "colab": {
          "base_uri": "https://localhost:8080/"
        },
        "id": "Def1fqF7W22u",
        "outputId": "32b50f9a-2c46-4c3f-a72f-12c42a7def31"
      },
      "source": [
        "thisdict = {\n",
        "    \"Brand\": \"Ford\",\n",
        "    \"Model\":\"Mustang\",\n",
        "    \"Country\": \"India\",\n",
        "    \"Year\":1978,\n",
        "    \"Colors\": [\"Red\",\"White\",\"Blue\"]\n",
        "}\n",
        "print(thisdict)\n",
        "print(type(thisdict))"
      ],
      "execution_count": null,
      "outputs": [
        {
          "output_type": "stream",
          "text": [
            "{'Brand': 'Ford', 'Model': 'Mustang', 'Country': 'India', 'Year': 1978, 'Colors': ['Red', 'White', 'Blue']}\n",
            "<class 'dict'>\n"
          ],
          "name": "stdout"
        }
      ]
    },
    {
      "cell_type": "markdown",
      "metadata": {
        "id": "CimklKo1ZTE0"
      },
      "source": [
        "Phyton Collection -------- Arrays\n",
        "There are  collection of data types in phyton programming laanguage \n",
        "---List---\n",
        "---Tuple---\n",
        "----SET--\n",
        "----DICTONARY----"
      ]
    },
    {
      "cell_type": "code",
      "metadata": {
        "colab": {
          "base_uri": "https://localhost:8080/"
        },
        "id": "DZVut7dtYmWp",
        "outputId": "7702c93f-e534-4a99-8a7a-cf5c6e284248"
      },
      "source": [
        "thisdict = {\n",
        "    \"Brand\": \"Ford\",\n",
        "    \"Model\":\"Mustang\",\n",
        "    \"Country\": \"India\",\n",
        "    \"Year\":1978,\n",
        "    \"Colors\": [\"Red\",\"White\",\"Blue\"]\n",
        "}\n",
        "thisdict[\"Year\"] =2020\n",
        "print(thisdict)\n",
        "print(type(thisdict))"
      ],
      "execution_count": null,
      "outputs": [
        {
          "output_type": "stream",
          "text": [
            "{'Brand': 'Ford', 'Model': 'Mustang', 'Country': 'India', 'Year': 2020, 'Colors': ['Red', 'White', 'Blue']}\n",
            "<class 'dict'>\n"
          ],
          "name": "stdout"
        }
      ]
    },
    {
      "cell_type": "code",
      "metadata": {
        "colab": {
          "base_uri": "https://localhost:8080/"
        },
        "id": "R4_NjagUa4vj",
        "outputId": "2d05101d-6ad1-4506-f530-a1515fb1365f"
      },
      "source": [
        "thisdict = {\n",
        "    \"Brand\": \"Ford\",\n",
        "    \"Model\":\"Mustang\",\n",
        "    \"Country\": \"India\",\n",
        "    \"Year\":1978,\n",
        "    \"Colors\": [\"Red\",\"White\",\"Blue\"]\n",
        "}\n",
        "thisdict.update({\"SRIJAN\": \"First Owner\"})\n",
        "print(thisdict)\n"
      ],
      "execution_count": null,
      "outputs": [
        {
          "output_type": "stream",
          "text": [
            "{'Brand': 'Ford', 'Model': 'Mustang', 'Country': 'India', 'Year': 1978, 'Colors': ['Red', 'White', 'Blue'], 'SRIJAN': 'First Owner'}\n"
          ],
          "name": "stdout"
        }
      ]
    },
    {
      "cell_type": "code",
      "metadata": {
        "colab": {
          "base_uri": "https://localhost:8080/"
        },
        "id": "KIcXw_MqbdcE",
        "outputId": "c2183f08-ddeb-4561-f2e5-7fe31d3b0cfe"
      },
      "source": [
        "thisdict = {\n",
        "    \"Brand\": \"Ford\",\n",
        "    \"Model\":\"Mustang\",\n",
        "    \"Country\": \"India\",\n",
        "    \"Year\":1978,\n",
        "    \"Colors\": [\"Red\",\"White\",\"Blue\"]\n",
        "}\n",
        "thisdict.pop(\"Colors\")\n",
        "print(thisdict)"
      ],
      "execution_count": null,
      "outputs": [
        {
          "output_type": "stream",
          "text": [
            "{'Brand': 'Ford', 'Model': 'Mustang', 'Country': 'India', 'Year': 1978}\n"
          ],
          "name": "stdout"
        }
      ]
    },
    {
      "cell_type": "code",
      "metadata": {
        "colab": {
          "base_uri": "https://localhost:8080/"
        },
        "id": "DSdOlu7tckIC",
        "outputId": "89193610-c433-42a2-ad7c-0c032abf9d55"
      },
      "source": [
        "thisdict = {\n",
        "    \"Brand\": \"Ford\",\n",
        "    \"Model\":\"Mustang\",\n",
        "    \"Country\": \"India\",\n",
        "    \"Year\":2022,\n",
        "    \"Colors\": [\"Red\",\"White\",\"Blue\"]\n",
        "}\n",
        "del thisdict[\"Year\"]\n",
        "print(thisdict)"
      ],
      "execution_count": null,
      "outputs": [
        {
          "output_type": "stream",
          "text": [
            "{'Brand': 'Ford', 'Model': 'Mustang', 'Country': 'India', 'Colors': ['Red', 'White', 'Blue']}\n"
          ],
          "name": "stdout"
        }
      ]
    },
    {
      "cell_type": "code",
      "metadata": {
        "colab": {
          "base_uri": "https://localhost:8080/"
        },
        "id": "LSeG_ioEc13B",
        "outputId": "baf66071-1010-4450-c6aa-07d9401520e1"
      },
      "source": [
        "thisdict = {\n",
        "    \"Brand\": \"Ford\",\n",
        "    \"Model\":\"Mustang\",\n",
        "    \"Country\": \"India\",\n",
        "    \"Year\":2022,\n",
        "    \"Colors\": [\"Red\",\"White\",\"Blue\"]\n",
        "}\n",
        "thisdict.clear()\n",
        "print(thisdict)"
      ],
      "execution_count": null,
      "outputs": [
        {
          "output_type": "stream",
          "text": [
            "{}\n"
          ],
          "name": "stdout"
        }
      ]
    },
    {
      "cell_type": "code",
      "metadata": {
        "colab": {
          "base_uri": "https://localhost:8080/"
        },
        "id": "82QRDwC7c_gW",
        "outputId": "64741602-9785-48a9-9f22-2184e19da3e9"
      },
      "source": [
        "thisdict = {\n",
        "    \"Brand\": \"Ford\",\n",
        "    \"Model\":\"Mustang\",\n",
        "    \"Country\": \"India\",\n",
        "    \"Year\":2022,\n",
        "    \"Colors\": [\"Red\",\"White\",\"Blue\"]\n",
        "}\n",
        "Newdict =  thisdict.copy()\n",
        "print(Newdict)"
      ],
      "execution_count": null,
      "outputs": [
        {
          "output_type": "stream",
          "text": [
            "{'Brand': 'Ford', 'Model': 'Mustang', 'Country': 'India', 'Year': 2022, 'Colors': ['Red', 'White', 'Blue']}\n"
          ],
          "name": "stdout"
        }
      ]
    },
    {
      "cell_type": "code",
      "metadata": {
        "colab": {
          "base_uri": "https://localhost:8080/"
        },
        "id": "-iA1V7XzdX8B",
        "outputId": "d8a8382e-4e4c-463b-d542-d644afde52c9"
      },
      "source": [
        "thisdict = {\n",
        "   \"child1\":{\n",
        "       \"name\":'Shyam',\n",
        "           \"year\":'1990'\n",
        "       \n",
        "      },\n",
        "   \"child2\":{\n",
        "    \"name\":'Ankush',\n",
        "    \"year\":'1960'\n",
        "    },\n",
        "\"child3\":{\n",
        "    \"name\":'Rahul',\n",
        "    \"year\":'1960'\n",
        "      }\n",
        "}\n",
        "\n",
        "print(thisdict)\n",
        "\n"
      ],
      "execution_count": null,
      "outputs": [
        {
          "output_type": "stream",
          "text": [
            "{'child1': {'name': 'Shyam', 'year': '1990'}, 'child2': {'name': 'Ankush', 'year': '1960'}, 'child3': {'name': 'Rahul', 'year': '1960'}}\n"
          ],
          "name": "stdout"
        }
      ]
    },
    {
      "cell_type": "markdown",
      "metadata": {
        "id": "JAA4wg2xfCDq"
      },
      "source": [
        "In Phyton -----------set of inbilts Methods\n",
        "Methods----\n",
        "----copy()\n",
        "---clear()\n",
        "---formkey()\n",
        "---get()\n",
        "---items()\n",
        "---keys()\n",
        "---pop()\n",
        "=---popitem()\n",
        "----setdefault()\n",
        "----update()\n",
        "---values()\n",
        "\n"
      ]
    },
    {
      "cell_type": "code",
      "metadata": {
        "colab": {
          "base_uri": "https://localhost:8080/"
        },
        "id": "oVdkACtXeoKA",
        "outputId": "619108d2-3fe2-4974-858a-c8ffbe60e3d1"
      },
      "source": [
        "a=23\n",
        "b=200\n",
        "if b>a:\n",
        "  print(\"b is greater than a\")"
      ],
      "execution_count": null,
      "outputs": [
        {
          "output_type": "stream",
          "text": [
            "b is greater than a\n"
          ],
          "name": "stdout"
        }
      ]
    },
    {
      "cell_type": "code",
      "metadata": {
        "colab": {
          "base_uri": "https://localhost:8080/"
        },
        "id": "krKFU9G0gGxk",
        "outputId": "bebb1675-1b84-4b22-e561-47423ca6ccff"
      },
      "source": [
        "a=200\n",
        "b=200\n",
        "if b>a:\n",
        "  print(\"b is greater than a\")\n",
        "elif a==b:\n",
        "    print(\"a is equal to b\")"
      ],
      "execution_count": null,
      "outputs": [
        {
          "output_type": "stream",
          "text": [
            "a is equal to b\n"
          ],
          "name": "stdout"
        }
      ]
    },
    {
      "cell_type": "code",
      "metadata": {
        "colab": {
          "base_uri": "https://localhost:8080/"
        },
        "id": "TsrLR-a1gblw",
        "outputId": "9f88878a-a106-49e3-ea62-58f315df5e42"
      },
      "source": [
        "a=333\n",
        "b=200\n",
        "if b>a:\n",
        "  print(\"b is greater than a\")\n",
        "elif a==b:\n",
        "    print(\"a is equal to b\")\n",
        "else:\n",
        "    print(\"a is greater than b\")"
      ],
      "execution_count": null,
      "outputs": [
        {
          "output_type": "stream",
          "text": [
            "a is greater than b\n"
          ],
          "name": "stdout"
        }
      ]
    },
    {
      "cell_type": "code",
      "metadata": {
        "colab": {
          "base_uri": "https://localhost:8080/"
        },
        "id": "-I7mI-vPg6Zj",
        "outputId": "3e56417b-3127-44de-ab5c-e8011044f9f9"
      },
      "source": [
        "a=333\n",
        "b=200\n",
        "if b>a:\n",
        "  print(\"b is greater than a\")\n",
        "else:\n",
        "    print(\"a is greater than b\")"
      ],
      "execution_count": null,
      "outputs": [
        {
          "output_type": "stream",
          "text": [
            "a is greater than b\n"
          ],
          "name": "stdout"
        }
      ]
    },
    {
      "cell_type": "code",
      "metadata": {
        "colab": {
          "base_uri": "https://localhost:8080/"
        },
        "id": "yHvfiq9ahH-T",
        "outputId": "44786647-7ab9-4e79-b72c-a1162b14d2c3"
      },
      "source": [
        "a=333\n",
        "b=45555\n",
        "if b>a:   print(\"b is greater than a\")"
      ],
      "execution_count": null,
      "outputs": [
        {
          "output_type": "stream",
          "text": [
            "b is greater than a\n"
          ],
          "name": "stdout"
        }
      ]
    },
    {
      "cell_type": "code",
      "metadata": {
        "colab": {
          "base_uri": "https://localhost:8080/"
        },
        "id": "Qf-aUVDdhXD4",
        "outputId": "f9410dff-0db5-4928-d451-c14da90a34ae"
      },
      "source": [
        " a=333\n",
        "b=20\n",
        "c=700\n",
        "if a>b and c>a:   print(\"both condition are true \")"
      ],
      "execution_count": null,
      "outputs": [
        {
          "output_type": "stream",
          "text": [
            "both condition are true \n"
          ],
          "name": "stdout"
        }
      ]
    },
    {
      "cell_type": "markdown",
      "metadata": {
        "id": "efkF68ygiFNL"
      },
      "source": [
        "**NESTED IF ELSE**"
      ]
    },
    {
      "cell_type": "code",
      "metadata": {
        "colab": {
          "base_uri": "https://localhost:8080/"
        },
        "id": "fjBypB9riNmF",
        "outputId": "9a35050b-5746-49ba-9114-0f3760af40e3"
      },
      "source": [
        "x = 41\n",
        "\n",
        "if x>10:\n",
        "   print(\"this is above the value 10\")\n",
        "if x>20:\n",
        "       print(\"it is above the value 20\")\n",
        "else :\n",
        "   print(\"but not above 20\")"
      ],
      "execution_count": null,
      "outputs": [
        {
          "output_type": "stream",
          "text": [
            "this is above the value 10\n",
            "it is above the value 20\n"
          ],
          "name": "stdout"
        }
      ]
    },
    {
      "cell_type": "code",
      "metadata": {
        "colab": {
          "base_uri": "https://localhost:8080/"
        },
        "id": "420Xn3Hriu6Q",
        "outputId": "f7052b6a-c20f-4f0f-8c57-97ef62cd917e"
      },
      "source": [
        "#while loop\n",
        "i = 1\n",
        "while i<6:\n",
        "   print(i)\n",
        "   i += 1"
      ],
      "execution_count": null,
      "outputs": [
        {
          "output_type": "stream",
          "text": [
            "1\n",
            "2\n",
            "3\n",
            "4\n",
            "5\n"
          ],
          "name": "stdout"
        }
      ]
    },
    {
      "cell_type": "code",
      "metadata": {
        "colab": {
          "base_uri": "https://localhost:8080/"
        },
        "id": "AZ6dAlIKjQZe",
        "outputId": "98a7ec06-c6d5-4c53-e0f2-97b40108b340"
      },
      "source": [
        "i = 1\n",
        "while i<6:\n",
        "   print(i)\n",
        "   if (i ==3):\n",
        "     break \n",
        "   i += 1"
      ],
      "execution_count": null,
      "outputs": [
        {
          "output_type": "stream",
          "text": [
            "1\n",
            "2\n",
            "3\n"
          ],
          "name": "stdout"
        }
      ]
    },
    {
      "cell_type": "code",
      "metadata": {
        "colab": {
          "base_uri": "https://localhost:8080/"
        },
        "id": "KSFESxQxjtBJ",
        "outputId": "7f1174fd-a026-4cc5-c54f-875d52427de9"
      },
      "source": [
        "i = 1\n",
        "while i < 6:\n",
        "       print(i)\n",
        "       i += 1\n",
        "else:\n",
        "  print(\"i is no longer than 6\")"
      ],
      "execution_count": null,
      "outputs": [
        {
          "output_type": "stream",
          "text": [
            "1\n",
            "2\n",
            "3\n",
            "4\n",
            "5\n",
            "i is no longer than 6\n"
          ],
          "name": "stdout"
        }
      ]
    },
    {
      "cell_type": "code",
      "metadata": {
        "id": "7tAsiDHnkXnS",
        "colab": {
          "base_uri": "https://localhost:8080/"
        },
        "outputId": "5ca5674f-75f4-43bb-dee5-a357aabfef35"
      },
      "source": [
        "# Python Program to find the L.C.M. of two input number\n",
        "def lcm(x, y):\n",
        "  if x > y:\n",
        "    greater = x\n",
        "  else:\n",
        "    greater = y\n",
        "  while(True):\n",
        "    if ((greater % x== 0) and (greater % y == 0)):\n",
        "      lcm = greater\n",
        "      break\n",
        "    greater += 1 \n",
        "  return lcm \n",
        "num1 = int(input(\"Enter first number: \"))\n",
        "num2 = int(input(\"Enter second number: \"))\n",
        "print(\"The LCM of\", num1,\"and\",num2,\"is\",lcm(num1,num2))"
      ],
      "execution_count": null,
      "outputs": [
        {
          "output_type": "stream",
          "text": [
            "Enter first number: 23\n",
            "Enter second number: 34\n",
            "The LCM of 23 and 34 is 782\n"
          ],
          "name": "stdout"
        }
      ]
    },
    {
      "cell_type": "markdown",
      "metadata": {
        "id": "_dcnIRnTqiaq"
      },
      "source": [
        "NUMPY \n",
        "Used for working on array\n",
        "Various Domain ---- Linear alzebra,fourier transform, and matrix manipulation\n",
        "Numpy-2005---Travis Oliphant (Created )\n",
        "\n",
        "ndarray----arrayobject---Datascience\n",
        "Numpy they are faster than list\n",
        "\n",
        "Installition command would be"
      ]
    },
    {
      "cell_type": "markdown",
      "metadata": {
        "id": "-yASrl-ssP0k"
      },
      "source": [
        "###**Getting started WITH NUMPY**"
      ]
    },
    {
      "cell_type": "code",
      "metadata": {
        "id": "smRVWKAWl-7R",
        "colab": {
          "base_uri": "https://localhost:8080/"
        },
        "outputId": "947b6ebe-496f-4613-9fb6-b84e97c51607"
      },
      "source": [
        "import numpy as np\n",
        "arr = np.array([1,2,3,4,5])\n",
        "print(arr)"
      ],
      "execution_count": null,
      "outputs": [
        {
          "output_type": "stream",
          "text": [
            "[1 2 3 4 5]\n"
          ],
          "name": "stdout"
        }
      ]
    },
    {
      "cell_type": "code",
      "metadata": {
        "colab": {
          "base_uri": "https://localhost:8080/"
        },
        "id": "XC4FlOndspid",
        "outputId": "bc017561-397f-47d7-c90f-9c7d408b2324"
      },
      "source": [
        "import numpy as np\n",
        "print(np.__version__)"
      ],
      "execution_count": null,
      "outputs": [
        {
          "output_type": "stream",
          "text": [
            "1.18.5\n"
          ],
          "name": "stdout"
        }
      ]
    },
    {
      "cell_type": "markdown",
      "metadata": {
        "id": "rq8GmI7FtQoN"
      },
      "source": [
        "**Create  a numpy and Array object**"
      ]
    },
    {
      "cell_type": "code",
      "metadata": {
        "colab": {
          "base_uri": "https://localhost:8080/"
        },
        "id": "rcyQILghtFwS",
        "outputId": "f3d0d2a8-ea7f-406b-e8f0-21e5b683e0bd"
      },
      "source": [
        "import numpy as np\n",
        "arr = np.array([1,2,3,4,5])\n",
        "print(arr)\n",
        "print(type(arr))"
      ],
      "execution_count": null,
      "outputs": [
        {
          "output_type": "stream",
          "text": [
            "[1 2 3 4 5]\n",
            "<class 'numpy.ndarray'>\n"
          ],
          "name": "stdout"
        }
      ]
    },
    {
      "cell_type": "code",
      "metadata": {
        "colab": {
          "base_uri": "https://localhost:8080/"
        },
        "id": "NB1sA9JqtkGb",
        "outputId": "e39c91cd-7a6a-4706-ef5f-6d68437aa0bf"
      },
      "source": [
        "import numpy as np\n",
        "arr = np.array([3456])\n",
        "print(arr)\n",
        "print(type(arr))"
      ],
      "execution_count": null,
      "outputs": [
        {
          "output_type": "stream",
          "text": [
            "[3456]\n",
            "<class 'numpy.ndarray'>\n"
          ],
          "name": "stdout"
        }
      ]
    },
    {
      "cell_type": "code",
      "metadata": {
        "colab": {
          "base_uri": "https://localhost:8080/"
        },
        "id": "wpwkQgGMtoCd",
        "outputId": "194ea247-b11c-46f8-e268-bc87b7ed7e70"
      },
      "source": [
        "import numpy as np\n",
        "arr = np.array([[1,2,3,4,5],[5,6,7,8,9]])\n",
        "print(arr)\n",
        "print(type(arr))"
      ],
      "execution_count": null,
      "outputs": [
        {
          "output_type": "stream",
          "text": [
            "[[1 2 3 4 5]\n",
            " [5 6 7 8 9]]\n",
            "<class 'numpy.ndarray'>\n"
          ],
          "name": "stdout"
        }
      ]
    },
    {
      "cell_type": "code",
      "metadata": {
        "colab": {
          "base_uri": "https://localhost:8080/"
        },
        "id": "_MWjsgjat5HG",
        "outputId": "27082ea5-e694-4eb6-a757-e94e2db67d35"
      },
      "source": [
        "import numpy as np\n",
        "arr = np.array([[[1,2,3,4,5],[10,11,12,13,14]],[[15,16,17,18,19],[5,6,7,8,9]]])\n",
        "print(arr)\n",
        "print(type(arr))"
      ],
      "execution_count": null,
      "outputs": [
        {
          "output_type": "stream",
          "text": [
            "[[[ 1  2  3  4  5]\n",
            "  [10 11 12 13 14]]\n",
            "\n",
            " [[15 16 17 18 19]\n",
            "  [ 5  6  7  8  9]]]\n",
            "<class 'numpy.ndarray'>\n"
          ],
          "name": "stdout"
        }
      ]
    },
    {
      "cell_type": "code",
      "metadata": {
        "colab": {
          "base_uri": "https://localhost:8080/"
        },
        "id": "bGKH_y86uWNg",
        "outputId": "a4df9b8b-dd1a-4fe5-9026-85f46ea31446"
      },
      "source": [
        "import numpy as np\n",
        "a = np.array(123)\n",
        "b= np.array([1,2,3,4,5])\n",
        "c= np.array([[15,16,17,18,19],[10,11,12,13,14]])\n",
        "d= np.array([[[1,2,3,4,5],[10,11,12,13,14]],[[15,16,17,18,19],[5,6,7,8,9]]])\n",
        "\n",
        "print(a.ndim)\n",
        "print(b.ndim)\n",
        "print(c.ndim)\n",
        "print(d.ndim)"
      ],
      "execution_count": null,
      "outputs": [
        {
          "output_type": "stream",
          "text": [
            "0\n",
            "1\n",
            "2\n",
            "3\n"
          ],
          "name": "stdout"
        }
      ]
    },
    {
      "cell_type": "code",
      "metadata": {
        "colab": {
          "base_uri": "https://localhost:8080/"
        },
        "id": "Olg6jywjyOJO",
        "outputId": "09b3011d-8ec1-4a5e-856e-af772ce8e77b"
      },
      "source": [
        "import numpy as np\n",
        "\n",
        "a= np.array(456)\n",
        "b= np.array([1,2,3,4,5,6,7])\n",
        "c= np.array([[1,2,3,4,5],[6,7,8,9,10]])\n",
        "d= np.array([[[1,2,3,],[4,5,6]],[[6,7,8],[9,10,11]]])\n",
        "\n",
        "print(a.ndim)\n",
        "print(b.ndim)\n",
        "print(c.ndim)\n",
        "print(d.ndim)"
      ],
      "execution_count": null,
      "outputs": [
        {
          "output_type": "stream",
          "text": [
            "0\n",
            "1\n",
            "2\n",
            "3\n"
          ],
          "name": "stdout"
        }
      ]
    },
    {
      "cell_type": "code",
      "metadata": {
        "colab": {
          "base_uri": "https://localhost:8080/"
        },
        "id": "rCznaDlmw21Y",
        "outputId": "d8cf313c-8f52-4fd9-e9e8-7549642a6ec3"
      },
      "source": [
        "import numpy as np\n",
        "arr= np.array([1,2,3,4,5])\n",
        "print([arr[2]+arr[4]])"
      ],
      "execution_count": null,
      "outputs": [
        {
          "output_type": "stream",
          "text": [
            "[8]\n"
          ],
          "name": "stdout"
        }
      ]
    },
    {
      "cell_type": "code",
      "metadata": {
        "colab": {
          "base_uri": "https://localhost:8080/"
        },
        "id": "Vt1AIl6NxFen",
        "outputId": "5df4e69a-07c5-4aee-a7ce-2abdc7e85789"
      },
      "source": [
        "import numpy as np\n",
        "c = np.array([1,2,3,4,5])\n",
        "print(c)\n",
        "print('fifth element of 2nd dimensional:',c[1])"
      ],
      "execution_count": null,
      "outputs": [
        {
          "output_type": "stream",
          "text": [
            "[1 2 3 4 5]\n",
            "fifth element of 2nd dimensional: 2\n"
          ],
          "name": "stdout"
        }
      ]
    },
    {
      "cell_type": "code",
      "metadata": {
        "colab": {
          "base_uri": "https://localhost:8080/"
        },
        "id": "P19nmQT6xkFe",
        "outputId": "f0a54f7b-349b-443f-b53b-30b772db20f4"
      },
      "source": [
        "import numpy as np\n",
        "c= np.array([[[1,2,3,],[4,5,6]],[[6,7,8],[9,10,11]]])\n",
        "print(c)\n",
        "print('Print the third element of second array of the first array:', c[0,1,2])"
      ],
      "execution_count": null,
      "outputs": [
        {
          "output_type": "stream",
          "text": [
            "[[[ 1  2  3]\n",
            "  [ 4  5  6]]\n",
            "\n",
            " [[ 6  7  8]\n",
            "  [ 9 10 11]]]\n",
            "Print the third element of second array of the first array: 6\n"
          ],
          "name": "stdout"
        }
      ]
    },
    {
      "cell_type": "code",
      "metadata": {
        "colab": {
          "base_uri": "https://localhost:8080/"
        },
        "id": "-SZif4Rgxkw6",
        "outputId": "086f4d16-af3f-4fb7-d28e-f21f8059af6f"
      },
      "source": [
        "import numpy as np\n",
        "c= np.array([[[1,2,3,],[4,5,6]],[[6,7,8],[9,10,11]]])\n",
        "print(c)\n",
        "print('Print the third element of second array of the first array: ', c[0,1,2])"
      ],
      "execution_count": null,
      "outputs": [
        {
          "output_type": "stream",
          "text": [
            "[[[ 1  2  3]\n",
            "  [ 4  5  6]]\n",
            "\n",
            " [[ 6  7  8]\n",
            "  [ 9 10 11]]]\n",
            "Print the third element of second array of the first array:  6\n"
          ],
          "name": "stdout"
        }
      ]
    },
    {
      "cell_type": "code",
      "metadata": {
        "colab": {
          "base_uri": "https://localhost:8080/"
        },
        "id": "8EbYt9KdzEd6",
        "outputId": "2082b105-c42e-4399-8534-29fb20f574fb"
      },
      "source": [
        "import numpy as np\n",
        "c= np.array([[1,2,3,9],[4,5,6,10]])\n",
        "print(c)\n",
        "print('Print the last element form 2nd dis: ', c[1,-1])"
      ],
      "execution_count": null,
      "outputs": [
        {
          "output_type": "stream",
          "text": [
            "[[ 1  2  3  9]\n",
            " [ 4  5  6 10]]\n",
            "Print the last element form 2nd dis:  10\n"
          ],
          "name": "stdout"
        }
      ]
    },
    {
      "cell_type": "code",
      "metadata": {
        "colab": {
          "base_uri": "https://localhost:8080/"
        },
        "id": "TRz9eU_ezLB0",
        "outputId": "79ccc3f8-926c-40a6-c4b5-c19d19dd571f"
      },
      "source": [
        "import numpy as np\n",
        "c= np.array([[[1,2,3,],[4,5,6]],[[6,7,8],[9,10,11]]])\n",
        "print(c[1:6])"
      ],
      "execution_count": null,
      "outputs": [
        {
          "output_type": "stream",
          "text": [
            "[[[ 6  7  8]\n",
            "  [ 9 10 11]]]\n"
          ],
          "name": "stdout"
        }
      ]
    },
    {
      "cell_type": "code",
      "metadata": {
        "colab": {
          "base_uri": "https://localhost:8080/"
        },
        "id": "XleRRC0lza87",
        "outputId": "b1bafa3e-1ae4-4fa6-a527-35997ab08464"
      },
      "source": [
        "import numpy as np\n",
        "c= np.array([1,2,3,4,5,6,6,7,8,9,10,11])\n",
        "print(c[1:2])"
      ],
      "execution_count": null,
      "outputs": [
        {
          "output_type": "stream",
          "text": [
            "[2]\n"
          ],
          "name": "stdout"
        }
      ]
    },
    {
      "cell_type": "code",
      "metadata": {
        "colab": {
          "base_uri": "https://localhost:8080/"
        },
        "id": "4HfE_lIhz_ey",
        "outputId": "a06882ab-6055-425e-c91c-1677efac55b1"
      },
      "source": [
        "import numpy as np\n",
        "c= np.array([1,2,3,4,5,6,6,7,8,9,10,11,12,13,14,15,15,16,17,18,19,20])\n",
        "print(c[-3:-2])"
      ],
      "execution_count": null,
      "outputs": [
        {
          "output_type": "stream",
          "text": [
            "[18]\n"
          ],
          "name": "stdout"
        }
      ]
    },
    {
      "cell_type": "code",
      "metadata": {
        "colab": {
          "base_uri": "https://localhost:8080/"
        },
        "id": "_Z_owl-40FtA",
        "outputId": "b7832214-dd30-4c79-d54a-b702e596ed34"
      },
      "source": [
        "import numpy as np\n",
        "c= np.array([1,2,3,4,5,6,6,7,8,9,10,11])\n",
        "print(c[1:2:6])"
      ],
      "execution_count": null,
      "outputs": [
        {
          "output_type": "stream",
          "text": [
            "[2]\n"
          ],
          "name": "stdout"
        }
      ]
    },
    {
      "cell_type": "code",
      "metadata": {
        "colab": {
          "base_uri": "https://localhost:8080/"
        },
        "id": "OfPAUUt10RG2",
        "outputId": "01ff71dc-63d9-4596-f6d7-4851d22c33f9"
      },
      "source": [
        "import numpy as np\n",
        "c= np.array([1,2,3,4,5,6,6,7,8,9,10,11])\n",
        "print(c[9:7:4])"
      ],
      "execution_count": null,
      "outputs": [
        {
          "output_type": "stream",
          "text": [
            "[]\n"
          ],
          "name": "stdout"
        }
      ]
    },
    {
      "cell_type": "code",
      "metadata": {
        "colab": {
          "base_uri": "https://localhost:8080/"
        },
        "id": "ltE3c6DK0y4C",
        "outputId": "73c4fa80-bf32-4ca8-f1e4-bf1f7cfd176d"
      },
      "source": [
        "import numpy as np\n",
        "c= np.array([1,2,3,4,5,6,6,7,8,9,10,11])\n",
        "print(c[:6])"
      ],
      "execution_count": null,
      "outputs": [
        {
          "output_type": "stream",
          "text": [
            "[1 2 3 4 5 6]\n"
          ],
          "name": "stdout"
        }
      ]
    },
    {
      "cell_type": "code",
      "metadata": {
        "colab": {
          "base_uri": "https://localhost:8080/"
        },
        "id": "iJfSmQ780115",
        "outputId": "891d11df-a7ee-46c6-8a1a-4ab34cdb7e4a"
      },
      "source": [
        "import numpy as np\n",
        "c= np.array([1,2,3,4,5,6,6,7,8,9,10,11])\n",
        "print(c[::6])"
      ],
      "execution_count": null,
      "outputs": [
        {
          "output_type": "stream",
          "text": [
            "[1 6]\n"
          ],
          "name": "stdout"
        }
      ]
    },
    {
      "cell_type": "code",
      "metadata": {
        "colab": {
          "base_uri": "https://localhost:8080/"
        },
        "id": "MAUeYYch05zr",
        "outputId": "e2ae78f3-3ce0-41d9-e249-b67a1b4e9d8a"
      },
      "source": [
        "import numpy as np\n",
        "c= np.array([[1,2,3,4,5],[6,6,7,8,9]])\n",
        "print(c[0:2,1:6])"
      ],
      "execution_count": null,
      "outputs": [
        {
          "output_type": "stream",
          "text": [
            "[[2 3 4 5]\n",
            " [6 7 8 9]]\n"
          ],
          "name": "stdout"
        }
      ]
    },
    {
      "cell_type": "markdown",
      "metadata": {
        "id": "t4yklFj114hC"
      },
      "source": [
        "Numpy Data Types\n",
        "Strings---\n",
        "Integers---\n",
        "Float----1.2\n",
        "boolean----\n",
        "complex----10+3j"
      ]
    },
    {
      "cell_type": "code",
      "metadata": {
        "colab": {
          "base_uri": "https://localhost:8080/"
        },
        "id": "-9iViO-D1FP1",
        "outputId": "264fd72b-253b-4563-f92c-56085cffdfbb"
      },
      "source": [
        "import numpy as np\n",
        "c= np.array([1,2,3,4,5,6,6,7,8,9,10,11])\n",
        "print(c.dtype)"
      ],
      "execution_count": null,
      "outputs": [
        {
          "output_type": "stream",
          "text": [
            "int64\n"
          ],
          "name": "stdout"
        }
      ]
    },
    {
      "cell_type": "code",
      "metadata": {
        "colab": {
          "base_uri": "https://localhost:8080/"
        },
        "id": "fP8PXZvJ2b73",
        "outputId": "20a024ad-8a0a-43bc-8fd6-f1ca23f6d149"
      },
      "source": [
        "import numpy as np\n",
        "c= np.array(['Ram','Shyam','Mohan','Suraj','Rahul','Ashish'])\n",
        "print(c.dtype)"
      ],
      "execution_count": null,
      "outputs": [
        {
          "output_type": "stream",
          "text": [
            "<U6\n"
          ],
          "name": "stdout"
        }
      ]
    },
    {
      "cell_type": "code",
      "metadata": {
        "colab": {
          "base_uri": "https://localhost:8080/"
        },
        "id": "mqrNa1DI2o6O",
        "outputId": "ab233f84-41ee-4a1b-82f4-a92f320b9809"
      },
      "source": [
        "import numpy as np\n",
        "c= np.array([1,2,3,4,5,6,6,7,8,9,10,11])\n",
        "newarray= c.astype(int)\n",
        "print(newarray)\n",
        "print(newarray.dtype)"
      ],
      "execution_count": null,
      "outputs": [
        {
          "output_type": "stream",
          "text": [
            "[ 1  2  3  4  5  6  6  7  8  9 10 11]\n",
            "int64\n"
          ],
          "name": "stdout"
        }
      ]
    },
    {
      "cell_type": "code",
      "metadata": {
        "colab": {
          "base_uri": "https://localhost:8080/"
        },
        "id": "9Pkf1nal5j6Z",
        "outputId": "798c78eb-d943-4622-ac5f-03daefc76a6e"
      },
      "source": [
        "import numpy as np\n",
        "c= np.array([1,2,3,4,5,6,6.5,7,8,9.453,10.56789,11])\n",
        "newarray= c.astype(int)\n",
        "print(newarray)\n",
        "print(newarray.dtype)"
      ],
      "execution_count": null,
      "outputs": [
        {
          "output_type": "stream",
          "text": [
            "[ 1  2  3  4  5  6  6  7  8  9 10 11]\n",
            "int64\n"
          ],
          "name": "stdout"
        }
      ]
    },
    {
      "cell_type": "code",
      "metadata": {
        "colab": {
          "base_uri": "https://localhost:8080/"
        },
        "id": "_A0BvIml5ux6",
        "outputId": "e462c37e-85b6-411f-aad7-531e3aacd7b2"
      },
      "source": [
        "import numpy as np\n",
        "c= np.array([1,2,3,4,5,6,6.5,7,8,9.453,10.56789,11])\n",
        "newarray= c.astype(bool)\n",
        "print(newarray)\n",
        "print(newarray.dtype)"
      ],
      "execution_count": null,
      "outputs": [
        {
          "output_type": "stream",
          "text": [
            "[ True  True  True  True  True  True  True  True  True  True  True  True]\n",
            "bool\n"
          ],
          "name": "stdout"
        }
      ]
    },
    {
      "cell_type": "code",
      "metadata": {
        "colab": {
          "base_uri": "https://localhost:8080/"
        },
        "id": "kQgI3J_V502K",
        "outputId": "dea389a7-39ed-4e61-dbd8-ee3799fd0813"
      },
      "source": [
        "import numpy as np\n",
        "c= np.array([1,2,3,4,5,6,6.5,7,8,9.453,10.56789,11])\n",
        "x=c.copy()\n",
        "print(x)\n",
        "print(c)\n",
        "print(x.dtype)"
      ],
      "execution_count": null,
      "outputs": [
        {
          "output_type": "stream",
          "text": [
            "[ 1.       2.       3.       4.       5.       6.       6.5      7.\n",
            "  8.       9.453   10.56789 11.     ]\n",
            "[ 1.       2.       3.       4.       5.       6.       6.5      7.\n",
            "  8.       9.453   10.56789 11.     ]\n",
            "float64\n"
          ],
          "name": "stdout"
        }
      ]
    },
    {
      "cell_type": "code",
      "metadata": {
        "colab": {
          "base_uri": "https://localhost:8080/"
        },
        "id": "LVjegsky6HPM",
        "outputId": "a281e670-b0ae-4dac-9fea-52afc7be372e"
      },
      "source": [
        "import numpy as np\n",
        "c= np.array([1,2,3,4,5,6,6.5,7,8,9.453,10.56789,11])\n",
        "x=c.view()\n",
        "x[0]=9\n",
        "print(x)\n",
        "print(c)\n",
        "print(x.dtype)"
      ],
      "execution_count": null,
      "outputs": [
        {
          "output_type": "stream",
          "text": [
            "[ 9.       2.       3.       4.       5.       6.       6.5      7.\n",
            "  8.       9.453   10.56789 11.     ]\n",
            "[ 9.       2.       3.       4.       5.       6.       6.5      7.\n",
            "  8.       9.453   10.56789 11.     ]\n",
            "float64\n"
          ],
          "name": "stdout"
        }
      ]
    },
    {
      "cell_type": "code",
      "metadata": {
        "colab": {
          "base_uri": "https://localhost:8080/"
        },
        "id": "lNHl11Vy6xvH",
        "outputId": "4a4da99d-a750-4b1e-ebf8-940059ce1e79"
      },
      "source": [
        "import numpy as np\n",
        "c= np.array([1,2,3,4,5,6,6.5,7,8,9.453,10.56789,11])\n",
        "x=c.view()## Print the value of the base attribute to check if an array owns its data or not\n",
        "y=c.copy()\n",
        "print(x.base)\n",
        "print(y.base)\n"
      ],
      "execution_count": null,
      "outputs": [
        {
          "output_type": "stream",
          "text": [
            "[ 1.       2.       3.       4.       5.       6.       6.5      7.\n",
            "  8.       9.453   10.56789 11.     ]\n",
            "None\n"
          ],
          "name": "stdout"
        }
      ]
    },
    {
      "cell_type": "code",
      "metadata": {
        "colab": {
          "base_uri": "https://localhost:8080/"
        },
        "id": "jQhH24nN7jOj",
        "outputId": "28705935-055d-441d-ab44-9a6cbb0d4df5"
      },
      "source": [
        "import numpy as np\n",
        "c= np.array([1,2,3,4,5])\n",
        "y= np.array([[1,2,3,4,5],[6,7,8,9]])\n",
        "print(c.shape)\n",
        "print(y.shape)"
      ],
      "execution_count": null,
      "outputs": [
        {
          "output_type": "stream",
          "text": [
            "(5,)\n",
            "(2,)\n"
          ],
          "name": "stdout"
        }
      ]
    },
    {
      "cell_type": "code",
      "metadata": {
        "colab": {
          "base_uri": "https://localhost:8080/"
        },
        "id": "kif0qXTS8VPS",
        "outputId": "4807beec-323d-4c34-a38a-1da56b41494b"
      },
      "source": [
        "import numpy as np\n",
        "c= np.array([1,2,3,4,5,6,6.5,7,8,9.453,10.56789,11])\n",
        "newarray= c.reshape(4,3)\n",
        "print(newarray)"
      ],
      "execution_count": null,
      "outputs": [
        {
          "output_type": "stream",
          "text": [
            "[[ 1.       2.       3.     ]\n",
            " [ 4.       5.       6.     ]\n",
            " [ 6.5      7.       8.     ]\n",
            " [ 9.453   10.56789 11.     ]]\n"
          ],
          "name": "stdout"
        }
      ]
    },
    {
      "cell_type": "code",
      "metadata": {
        "colab": {
          "base_uri": "https://localhost:8080/"
        },
        "id": "jnZQx6Uh9gsA",
        "outputId": "b33cb096-4f17-479f-8d16-e20d250b47e0"
      },
      "source": [
        "import numpy as np\n",
        "c= np.array([1,2,3,4,5,6,6.5,7,8,9.453,10.56789,11])\n",
        "newarray= c.reshape(2,3,2)\n",
        "print(newarray)"
      ],
      "execution_count": null,
      "outputs": [
        {
          "output_type": "stream",
          "text": [
            "[[[ 1.       2.     ]\n",
            "  [ 3.       4.     ]\n",
            "  [ 5.       6.     ]]\n",
            "\n",
            " [[ 6.5      7.     ]\n",
            "  [ 8.       9.453  ]\n",
            "  [10.56789 11.     ]]]\n"
          ],
          "name": "stdout"
        }
      ]
    },
    {
      "cell_type": "code",
      "metadata": {
        "colab": {
          "base_uri": "https://localhost:8080/"
        },
        "id": "kfiNJoDSt4RK",
        "outputId": "0431ea28-9252-4587-c1a5-ee75e56d8c3a"
      },
      "source": [
        "import numpy as np\n",
        "arr = np.array([[1,2,3],[4,5,6]])\n",
        "newarr= arr.reshape(-1)\n",
        "print(arr)\n",
        "print(newarr)"
      ],
      "execution_count": null,
      "outputs": [
        {
          "output_type": "stream",
          "text": [
            "[[1 2 3]\n",
            " [4 5 6]]\n",
            "[1 2 3 4 5 6]\n"
          ],
          "name": "stdout"
        }
      ]
    },
    {
      "cell_type": "code",
      "metadata": {
        "id": "08DCI_7wu_k-",
        "colab": {
          "base_uri": "https://localhost:8080/"
        },
        "outputId": "27a0119b-f91a-46bd-b401-f0c4c514c9e8"
      },
      "source": [
        "import numpy as np\n",
        "arr1 = np.array([1,2,3])\n",
        "arr2 = np.array([4,5,6])\n",
        "newarr = np.concatenate((arr1,arr2))\n",
        "print(arr1)\n",
        "print(arr2)\n",
        "print(newarr)"
      ],
      "execution_count": null,
      "outputs": [
        {
          "output_type": "stream",
          "text": [
            "[1 2 3]\n",
            "[4 5 6]\n",
            "[1 2 3 4 5 6]\n"
          ],
          "name": "stdout"
        }
      ]
    },
    {
      "cell_type": "code",
      "metadata": {
        "colab": {
          "base_uri": "https://localhost:8080/"
        },
        "id": "a-umuhrBwhjz",
        "outputId": "50e54c98-9dc9-4493-9ac8-66b7db26674f"
      },
      "source": [
        "import numpy as np\n",
        "\n",
        "arr1 = np.array([1,2,3])\n",
        "arr2 = np.array([4,5,6])\n",
        "\n",
        "newarr = np.vstack((arr1,arr2))\n",
        "print(arr1)\n",
        "print(arr2)\n",
        "print(newarr)"
      ],
      "execution_count": null,
      "outputs": [
        {
          "output_type": "stream",
          "text": [
            "[1 2 3]\n",
            "[4 5 6]\n",
            "[[1 2 3]\n",
            " [4 5 6]]\n"
          ],
          "name": "stdout"
        }
      ]
    },
    {
      "cell_type": "code",
      "metadata": {
        "colab": {
          "base_uri": "https://localhost:8080/"
        },
        "id": "ftkrCuQAwsER",
        "outputId": "72cdbdd0-2487-4e43-a9ea-67c7fb73e108"
      },
      "source": [
        "import numpy as np\n",
        "\n",
        "arr1 = np.array([1,2,3])\n",
        "arr2 = np.array([4,5,6])\n",
        "\n",
        "newarr = np.dstack((arr1,arr2))\n",
        "print(newarr)"
      ],
      "execution_count": null,
      "outputs": [
        {
          "output_type": "stream",
          "text": [
            "[[[1 4]\n",
            "  [2 5]\n",
            "  [3 6]]]\n"
          ],
          "name": "stdout"
        }
      ]
    },
    {
      "cell_type": "markdown",
      "metadata": {
        "id": "2Pzj_vSYwzvg"
      },
      "source": [
        "###Split the given Array"
      ]
    },
    {
      "cell_type": "code",
      "metadata": {
        "colab": {
          "base_uri": "https://localhost:8080/"
        },
        "id": "enXWovpTxBZT",
        "outputId": "90f0e2fb-1cae-4c79-886c-1ec3272a482d"
      },
      "source": [
        "import numpy as np\n",
        "arr1 = np.array([1,2,3,4,5,6])\n",
        "newarr = np.array_split(arr,3)\n",
        "print(newarr)"
      ],
      "execution_count": null,
      "outputs": [
        {
          "output_type": "stream",
          "text": [
            "[array([[1, 2, 3]]), array([[4, 5, 6]]), array([], shape=(0, 3), dtype=int64)]\n"
          ],
          "name": "stdout"
        }
      ]
    },
    {
      "cell_type": "code",
      "metadata": {
        "colab": {
          "base_uri": "https://localhost:8080/"
        },
        "id": "nJ8teBbQxY6c",
        "outputId": "786b3327-84ef-47bc-c4b6-f2ef417d27e2"
      },
      "source": [
        "import numpy as np\n",
        "arr1 = np.array([1,2,3,4,5,6])\n",
        "newarr = np.array_split(arr,4)\n",
        "print(newarr)"
      ],
      "execution_count": null,
      "outputs": [
        {
          "output_type": "stream",
          "text": [
            "[array([[1, 2, 3]]), array([[4, 5, 6]]), array([], shape=(0, 3), dtype=int64), array([], shape=(0, 3), dtype=int64)]\n"
          ],
          "name": "stdout"
        }
      ]
    },
    {
      "cell_type": "code",
      "metadata": {
        "colab": {
          "base_uri": "https://localhost:8080/"
        },
        "id": "GotJ92BExlLI",
        "outputId": "b10acb43-3666-4e1c-ddd7-f1f6290ad91c"
      },
      "source": [
        "import numpy as np\n",
        "\n",
        "arr1 = np.array([1,2,3,4,5,6])\n",
        "\n",
        "newarr = np.array_split(arr,3)\n",
        "print(newarr[0])\n",
        "print(newarr[1])\n",
        "print(newarr[2])"
      ],
      "execution_count": null,
      "outputs": [
        {
          "output_type": "stream",
          "text": [
            "[[1 2 3]]\n",
            "[[4 5 6]]\n",
            "[]\n"
          ],
          "name": "stdout"
        }
      ]
    },
    {
      "cell_type": "code",
      "metadata": {
        "colab": {
          "base_uri": "https://localhost:8080/"
        },
        "id": "fnnvDp4K0b9T",
        "outputId": "1896c2f2-66b3-4d41-85b9-17b9717d17e2"
      },
      "source": [
        "import numpy as np\n",
        "\n",
        "arr1 = np.array([1,2,3,4,5,6])\n",
        "\n",
        "newarr = np.where(arr==4)\n",
        "print(newarr)"
      ],
      "execution_count": null,
      "outputs": [
        {
          "output_type": "stream",
          "text": [
            "(array([1]), array([0]))\n"
          ],
          "name": "stdout"
        }
      ]
    },
    {
      "cell_type": "code",
      "metadata": {
        "colab": {
          "base_uri": "https://localhost:8080/"
        },
        "id": "vQgkG5DR0xm8",
        "outputId": "0a702ea7-e340-45aa-a73d-d21398ea18a0"
      },
      "source": [
        "import numpy as np\n",
        "\n",
        "arr1 = np.array([1,2,3,4,5,6,7,8])\n",
        "\n",
        "newarr = np.where(arr%2 ==0)\n",
        "print(newarr)"
      ],
      "execution_count": null,
      "outputs": [
        {
          "output_type": "stream",
          "text": [
            "(array([0, 1, 1]), array([1, 0, 2]))\n"
          ],
          "name": "stdout"
        }
      ]
    },
    {
      "cell_type": "code",
      "metadata": {
        "colab": {
          "base_uri": "https://localhost:8080/"
        },
        "id": "b7JDz2e-1CRI",
        "outputId": "eb7339a3-4611-428c-f3c4-659abd5bcd3e"
      },
      "source": [
        "import numpy as np\n",
        "\n",
        "arr1 = np.array([1,2,3,4,5,6,7,8])\n",
        "\n",
        "newarr = np.where(arr%2 ==1)\n",
        "print(newarr)"
      ],
      "execution_count": null,
      "outputs": [
        {
          "output_type": "stream",
          "text": [
            "(array([0, 0, 1]), array([0, 2, 1]))\n"
          ],
          "name": "stdout"
        }
      ]
    },
    {
      "cell_type": "code",
      "metadata": {
        "colab": {
          "base_uri": "https://localhost:8080/"
        },
        "id": "MxKO0ms61S-5",
        "outputId": "484783be-a004-4fd7-ec74-eb2b36d0e0b2"
      },
      "source": [
        "import numpy as np\n",
        "\n",
        "arr = np.array([6,7,8,9])\n",
        "\n",
        "newarr = np.searchsorted(arr,7, side = 'right')\n",
        "print(x)"
      ],
      "execution_count": null,
      "outputs": [
        {
          "output_type": "stream",
          "text": [
            "[ 1.       2.       3.       4.       5.       6.       6.5      7.\n",
            "  8.       9.453   10.56789 11.     ]\n"
          ],
          "name": "stdout"
        }
      ]
    },
    {
      "cell_type": "code",
      "metadata": {
        "colab": {
          "base_uri": "https://localhost:8080/"
        },
        "id": "anc-C3AW3DIO",
        "outputId": "c66d80de-7d5f-4a6c-cd2a-5d2822be6d48"
      },
      "source": [
        "import numpy as np\n",
        "\n",
        "arr = np.array([414,42,43,44])\n",
        "\n",
        "x = arr[[True,True,True,False]]\n",
        "print(x)"
      ],
      "execution_count": null,
      "outputs": [
        {
          "output_type": "stream",
          "text": [
            "[414  42  43]\n"
          ],
          "name": "stdout"
        }
      ]
    },
    {
      "cell_type": "code",
      "metadata": {
        "id": "JqAU7rGq3mhE"
      },
      "source": [
        "import numpy as np\n",
        "\n",
        "arr = np.array([41,42,43,44])\n",
        "\n",
        "filter_arr =[filter_arr]\n",
        "\n",
        "print(filter_arr)\n",
        "\n",
        "prnt(newarr)"
      ],
      "execution_count": null,
      "outputs": []
    },
    {
      "cell_type": "code",
      "metadata": {
        "colab": {
          "base_uri": "https://localhost:8080/"
        },
        "id": "xWDS1D2D5Kpc",
        "outputId": "7a2b1851-c269-4110-ebcd-6e1c0e64b21e"
      },
      "source": [
        "import matplotlib\n",
        "print(matplotlib._version)"
      ],
      "execution_count": null,
      "outputs": [
        {
          "output_type": "stream",
          "text": [
            "<module 'matplotlib._version' from '/usr/local/lib/python3.6/dist-packages/matplotlib/_version.py'>\n"
          ],
          "name": "stdout"
        }
      ]
    },
    {
      "cell_type": "code",
      "metadata": {
        "colab": {
          "base_uri": "https://localhost:8080/",
          "height": 265
        },
        "id": "psz_lI6m53uz",
        "outputId": "80002511-2191-4246-d2e4-5b7a347584e1"
      },
      "source": [
        "import matplotlib.pyplot as plt\n",
        "import numpy as np\n",
        "\n",
        "xpoints = np.array([0,6])\n",
        "ypoints = np.array([0,6])\n",
        "\n",
        "plt.plot(xpoints,ypoints)\n",
        "plt.show()"
      ],
      "execution_count": null,
      "outputs": [
        {
          "output_type": "display_data",
          "data": {
            "image/png": "[encoded data removed]",
            "text/plain": [
              "<Figure size 432x288 with 1 Axes>"
            ]
          },
          "metadata": {
            "tags": [],
            "needs_background": "light"
          }
        }
      ]
    },
    {
      "cell_type": "code",
      "metadata": {
        "colab": {
          "base_uri": "https://localhost:8080/",
          "height": 265
        },
        "id": "nOsnH9VZ6kO-",
        "outputId": "ccd97d06-4030-41f7-e3d2-357386e7d83f"
      },
      "source": [
        "import matplotlib.pyplot as plt\n",
        "import numpy as np\n",
        "\n",
        "xpoints = np.array([1,3])\n",
        "ypoints = np.array([8,10])\n",
        "\n",
        "plt.plot(xpoints,ypoints)\n",
        "plt.show()"
      ],
      "execution_count": null,
      "outputs": [
        {
          "output_type": "display_data",
          "data": {
            "image/png": "[encoded data removed]",
            "text/plain": [
              "<Figure size 432x288 with 1 Axes>"
            ]
          },
          "metadata": {
            "tags": [],
            "needs_background": "light"
          }
        }
      ]
    },
    {
      "cell_type": "code",
      "metadata": {
        "colab": {
          "base_uri": "https://localhost:8080/",
          "height": 265
        },
        "id": "XP_BbxYM7gGx",
        "outputId": "1e42a051-9b5c-42c8-892e-1b8d46358e12"
      },
      "source": [
        "import matplotlib.pyplot as plt\n",
        "import numpy as np\n",
        "\n",
        "xpoints = np.array([1,8])\n",
        "ypoints = np.array([3,10])\n",
        "\n",
        "plt.plot(xpoints,ypoints)\n",
        "plt.show()"
      ],
      "execution_count": null,
      "outputs": [
        {
          "output_type": "display_data",
          "data": {
            "image/png": "[encoded data removed]",
            "text/plain": [
              "<Figure size 432x288 with 1 Axes>"
            ]
          },
          "metadata": {
            "tags": [],
            "needs_background": "light"
          }
        }
      ]
    },
    {
      "cell_type": "code",
      "metadata": {
        "colab": {
          "base_uri": "https://localhost:8080/",
          "height": 265
        },
        "id": "6kLbBsDe70iM",
        "outputId": "4ab5cc48-98d2-48fe-c291-b18a79e9a03b"
      },
      "source": [
        "import matplotlib.pyplot as plt\n",
        "import numpy as np\n",
        "\n",
        "xpoints = np.array([0,6])\n",
        "ypoints = np.array([0,6])\n",
        "\n",
        "plt.plot(xpoints,ypoints,'o')\n",
        "plt.show()"
      ],
      "execution_count": null,
      "outputs": [
        {
          "output_type": "display_data",
          "data": {
            "image/png": "[encoded data removed]",
            "text/plain": [
              "<Figure size 432x288 with 1 Axes>"
            ]
          },
          "metadata": {
            "tags": [],
            "needs_background": "light"
          }
        }
      ]
    },
    {
      "cell_type": "code",
      "metadata": {
        "colab": {
          "base_uri": "https://localhost:8080/",
          "height": 265
        },
        "id": "_4VpPynk76Wi",
        "outputId": "7099d0aa-69b9-4d3e-e5a3-75157bdcc997"
      },
      "source": [
        "import matplotlib.pyplot as plt\n",
        "import numpy as np\n",
        "\n",
        "xpoints = np.array([1,2,6,8])\n",
        "ypoints = np.array([3,8,1,10])\n",
        "\n",
        "plt.plot(xpoints,ypoints)\n",
        "plt.show()"
      ],
      "execution_count": null,
      "outputs": [
        {
          "output_type": "display_data",
          "data": {
            "image/png": "[encoded data removed]",
            "text/plain": [
              "<Figure size 432x288 with 1 Axes>"
            ]
          },
          "metadata": {
            "tags": [],
            "needs_background": "light"
          }
        }
      ]
    },
    {
      "cell_type": "code",
      "metadata": {
        "colab": {
          "base_uri": "https://localhost:8080/",
          "height": 265
        },
        "id": "SApEehu58WPw",
        "outputId": "b5a508d9-d0e2-42e7-fe8f-614019a48a2c"
      },
      "source": [
        "import matplotlib.pyplot as plt\n",
        "import numpy as np\n",
        "\n",
        "xpoints = np.array([1,2,6,8,11,56,23,22,34,23,54])\n",
        "\n",
        "plt.plot(xpoints)\n",
        "plt.show()"
      ],
      "execution_count": null,
      "outputs": [
        {
          "output_type": "display_data",
          "data": {
            "image/png": "[encoded data removed]",
            "text/plain": [
              "<Figure size 432x288 with 1 Axes>"
            ]
          },
          "metadata": {
            "tags": [],
            "needs_background": "light"
          }
        }
      ]
    },
    {
      "cell_type": "code",
      "metadata": {
        "colab": {
          "base_uri": "https://localhost:8080/",
          "height": 265
        },
        "id": "4LKElhla8hdp",
        "outputId": "13276dee-25bf-44c6-ba2f-3685035b15d6"
      },
      "source": [
        "import matplotlib.pyplot as plt\n",
        "import numpy as np\n",
        "\n",
        "xpoints = np.array([1,2,6,8,11,56,23,22,34,23,54])\n",
        "\n",
        "plt.plot(xpoints, marker ='o')\n",
        "plt.show()"
      ],
      "execution_count": null,
      "outputs": [
        {
          "output_type": "display_data",
          "data": {
            "image/png": "[encoded data removed]",
            "text/plain": [
              "<Figure size 432x288 with 1 Axes>"
            ]
          },
          "metadata": {
            "tags": [],
            "needs_background": "light"
          }
        }
      ]
    },
    {
      "cell_type": "code",
      "metadata": {
        "colab": {
          "base_uri": "https://localhost:8080/",
          "height": 265
        },
        "id": "LCmmNZz_8tiP",
        "outputId": "131915fc-fd7d-44d4-8200-8a6bc499a2f4"
      },
      "source": [
        "import matplotlib.pyplot as plt\n",
        "import numpy as np\n",
        "\n",
        "xpoints = np.array([1,2,6,8,11,56,23,22,34,23,54])\n",
        "\n",
        "plt.plot(xpoints, marker ='*')\n",
        "plt.show()"
      ],
      "execution_count": null,
      "outputs": [
        {
          "output_type": "display_data",
          "data": {
            "image/png": "[encoded data removed]",
            "text/plain": [
              "<Figure size 432x288 with 1 Axes>"
            ]
          },
          "metadata": {
            "tags": [],
            "needs_background": "light"
          }
        }
      ]
    },
    {
      "cell_type": "code",
      "metadata": {
        "colab": {
          "base_uri": "https://localhost:8080/",
          "height": 265
        },
        "id": "g6tXQPpE82xV",
        "outputId": "333e84f1-6ba1-4a3a-a70a-f74d06572005"
      },
      "source": [
        "import matplotlib.pyplot as plt\n",
        "import numpy as np\n",
        "\n",
        "xpoints = np.array([1,2,6,8,11,56,23,22,34,23,54])\n",
        "\n",
        "plt.plot(xpoints, 'o:r')\n",
        "plt.show()"
      ],
      "execution_count": null,
      "outputs": [
        {
          "output_type": "display_data",
          "data": {
            "image/png": "[encoded data removed]",
            "text/plain": [
              "<Figure size 432x288 with 1 Axes>"
            ]
          },
          "metadata": {
            "tags": [],
            "needs_background": "light"
          }
        }
      ]
    },
    {
      "cell_type": "code",
      "metadata": {
        "colab": {
          "base_uri": "https://localhost:8080/",
          "height": 265
        },
        "id": "rcObbuAP9Wfm",
        "outputId": "c12f114d-a040-458e-8768-4ff77dd2cdc1"
      },
      "source": [
        "import matplotlib.pyplot as plt\n",
        "import numpy as np\n",
        "\n",
        "xpoints = np.array([1,2,6,8,11,56,23,22,34,23,54])\n",
        "\n",
        "plt.plot(xpoints, 'o--r')\n",
        "plt.show()"
      ],
      "execution_count": null,
      "outputs": [
        {
          "output_type": "display_data",
          "data": {
            "image/png": "[encoded data removed]",
            "text/plain": [
              "<Figure size 432x288 with 1 Axes>"
            ]
          },
          "metadata": {
            "tags": [],
            "needs_background": "light"
          }
        }
      ]
    },
    {
      "cell_type": "code",
      "metadata": {
        "colab": {
          "base_uri": "https://localhost:8080/",
          "height": 265
        },
        "id": "6NCiA93p9gba",
        "outputId": "111566aa-3781-4191-e68e-eba0f3ea2185"
      },
      "source": [
        "import matplotlib.pyplot as plt\n",
        "import numpy as np\n",
        "\n",
        "xpoints = np.array([1,2,6,8,11,56,23,22,34,23,54])\n",
        "\n",
        "plt.plot(xpoints, 'o-.r')\n",
        "plt.show()"
      ],
      "execution_count": null,
      "outputs": [
        {
          "output_type": "display_data",
          "data": {
            "image/png": "[encoded data removed]",
            "text/plain": [
              "<Figure size 432x288 with 1 Axes>"
            ]
          },
          "metadata": {
            "tags": [],
            "needs_background": "light"
          }
        }
      ]
    },
    {
      "cell_type": "code",
      "metadata": {
        "colab": {
          "base_uri": "https://localhost:8080/",
          "height": 265
        },
        "id": "iUCHXcpB9ywM",
        "outputId": "85c479d3-2fc0-43c0-eae8-6b987ebc2fb6"
      },
      "source": [
        "import matplotlib.pyplot as plt\n",
        "import numpy as np\n",
        "x = np.array([0,1,2,3])\n",
        "y = np.array([3,5,2,10])\n",
        "\n",
        "plt.subplot(2,1,1)\n",
        "plt.plot(x,y)\n",
        "\n",
        "\n",
        "x = np.array([0,1,2,3])\n",
        "y = np.array([30,25,32,40])\n",
        "\n",
        "plt.subplot(2,1,2)\n",
        "plt.plot(x,y)\n",
        "\n",
        "plt.show()"
      ],
      "execution_count": null,
      "outputs": [
        {
          "output_type": "display_data",
          "data": {
            "image/png": "[encoded data removed]",
            "text/plain": [
              "<Figure size 432x288 with 2 Axes>"
            ]
          },
          "metadata": {
            "tags": [],
            "needs_background": "light"
          }
        }
      ]
    },
    {
      "cell_type": "code",
      "metadata": {
        "colab": {
          "base_uri": "https://localhost:8080/",
          "height": 265
        },
        "id": "gw0P2aD7-kv-",
        "outputId": "74b41767-9219-453f-f060-d7816c158456"
      },
      "source": [
        "import matplotlib.pyplot as plt\n",
        "import numpy as np\n",
        "x = np.array([11,34,65,25])\n",
        "y = np.array([3,5,2,10])\n",
        "\n",
        "plt.subplot(2,3,1)\n",
        "plt.plot(x,y)\n",
        "\n",
        "\n",
        "x = np.array([11,17,45,25])\n",
        "y = np.array([30,25,32,40])\n",
        "\n",
        "plt.subplot(2,3,2)\n",
        "plt.plot(x,y)\n",
        "\n",
        "x = np.array([16,75,34,26])\n",
        "y = np.array([3,5,2,10])\n",
        "\n",
        "plt.subplot(2,3,3)\n",
        "plt.plot(x,y)\n",
        "\n",
        "\n",
        "x = np.array([10,11,12,13])\n",
        "y = np.array([30,25,32,40])\n",
        "\n",
        "plt.subplot(2,3,4)\n",
        "plt.plot(x,y)\n",
        "\n",
        "plt.show()"
      ],
      "execution_count": null,
      "outputs": [
        {
          "output_type": "display_data",
          "data": {
            "image/png": "[encoded data removed]",
            "text/plain": [
              "<Figure size 432x288 with 4 Axes>"
            ]
          },
          "metadata": {
            "tags": [],
            "needs_background": "light"
          }
        }
      ]
    },
    {
      "cell_type": "code",
      "metadata": {
        "colab": {
          "base_uri": "https://localhost:8080/",
          "height": 281
        },
        "id": "2N3nY9oCBDth",
        "outputId": "1ba1934c-8112-408f-b98e-dafab1e6601f"
      },
      "source": [
        "import matplotlib.pyplot as plt\n",
        "import numpy as np\n",
        "x = np.array([0,1,2,3])\n",
        "y = np.array([3,5,2,10])\n",
        "\n",
        "plt.subplot(1,2,1)\n",
        "plt.plot(x,y)\n",
        "plt.title('SALES')\n",
        "\n",
        "\n",
        "x = np.array([0,1,2,3])\n",
        "y = np.array([30,25,32,40])\n",
        "\n",
        "plt.subplot(1,2,2)\n",
        "plt.plot(x,y)\n",
        "plt.title('Income')\n",
        "\n",
        "plt.show()"
      ],
      "execution_count": null,
      "outputs": [
        {
          "output_type": "display_data",
          "data": {
            "image/png": "[encoded data removed]",
            "text/plain": [
              "<Figure size 432x288 with 2 Axes>"
            ]
          },
          "metadata": {
            "tags": [],
            "needs_background": "light"
          }
        }
      ]
    },
    {
      "cell_type": "code",
      "metadata": {
        "colab": {
          "base_uri": "https://localhost:8080/",
          "height": 294
        },
        "id": "9UP3pFB9BQHL",
        "outputId": "c46c5824-812a-498a-fc39-e5b59ca19f0d"
      },
      "source": [
        "import matplotlib.pyplot as plt\n",
        "import numpy as np\n",
        "x = np.array([0,1,2,3])\n",
        "y = np.array([3,5,2,10])\n",
        "\n",
        "plt.subplot(1,2,1)\n",
        "plt.plot(x,y)\n",
        "plt.title('SALES')\n",
        "\n",
        "\n",
        "x = np.array([0,1,2,3])\n",
        "y = np.array([30,25,32,40])\n",
        "\n",
        "plt.subplot(1,2,2)\n",
        "plt.plot(x,y)\n",
        "plt.title('Income')\n",
        "\n",
        "plt.suptitle(\"workshop of Acharya collage\")\n",
        "plt.show()"
      ],
      "execution_count": null,
      "outputs": [
        {
          "output_type": "display_data",
          "data": {
            "image/png": "[encoded data removed]",
            "text/plain": [
              "<Figure size 432x288 with 2 Axes>"
            ]
          },
          "metadata": {
            "tags": [],
            "needs_background": "light"
          }
        }
      ]
    },
    {
      "cell_type": "code",
      "metadata": {
        "colab": {
          "base_uri": "https://localhost:8080/",
          "height": 281
        },
        "id": "HZwft9omBm4s",
        "outputId": "e60d79e8-6610-4cb2-c139-0be5c1594d4f"
      },
      "source": [
        "import matplotlib.pyplot as plt\n",
        "import numpy as np\n",
        "\n",
        "x = np.array([1,2,3,4,5,6,7,8,9,10])\n",
        "y = np.array([10,9,8,7,6,5,4,3,2,1])\n",
        "plt.scatter(x,y)\n",
        "\n",
        "plt.title('Scatter Plot')\n",
        "plt.show()"
      ],
      "execution_count": null,
      "outputs": [
        {
          "output_type": "display_data",
          "data": {
            "image/png": "[encoded data removed]",
            "text/plain": [
              "<Figure size 432x288 with 1 Axes>"
            ]
          },
          "metadata": {
            "tags": [],
            "needs_background": "light"
          }
        }
      ]
    },
    {
      "cell_type": "code",
      "metadata": {
        "colab": {
          "base_uri": "https://localhost:8080/",
          "height": 281
        },
        "id": "7ssM8_iWCMOz",
        "outputId": "693642ed-8d62-4fe4-8f82-e2eab998f813"
      },
      "source": [
        "import matplotlib.pyplot as plt\n",
        "import numpy as np\n",
        "\n",
        "x = np.array([31,42,83,24,25,36,67,58,29,110])\n",
        "y = np.array([10,49,38,67,36,65,14,33,22,21])\n",
        "plt.scatter(x,y,color= 'hotpink')\n",
        "\n",
        "x = np.array([41,22,53,14,65,36,67,28,59,19])\n",
        "y = np.array([80,91,83,76,60,53,45,37,32,41])\n",
        "plt.scatter(x,y,color= '#88c999')\n",
        "\n",
        "plt.title('Scatter Plot')\n",
        "plt.show()"
      ],
      "execution_count": null,
      "outputs": [
        {
          "output_type": "display_data",
          "data": {
            "image/png": "[encoded data removed]",
            "text/plain": [
              "<Figure size 432x288 with 1 Axes>"
            ]
          },
          "metadata": {
            "tags": [],
            "needs_background": "light"
          }
        }
      ]
    },
    {
      "cell_type": "code",
      "metadata": {
        "colab": {
          "base_uri": "https://localhost:8080/",
          "height": 265
        },
        "id": "tBlA-zYH--hw",
        "outputId": "81c2b32a-e149-49f3-f5c6-695ae7f3075c"
      },
      "source": [
        "import matplotlib.pyplot as plt\r\n",
        "import numpy as np\r\n",
        "\r\n",
        "x = np.array([5,7,8,7,2,17,2,9,4,11,12,9,6])\r\n",
        "y = np.array([99,86,87,88,111,86,103,87,94,78,77,85,86])\r\n",
        "colors = np.array([0,10,20,30,40,45,50,55,60,70,80,90,100])\r\n",
        "\r\n",
        "plt.scatter(x,y, c=colors,cmap = 'viridis')\r\n",
        "plt.show()"
      ],
      "execution_count": null,
      "outputs": [
        {
          "output_type": "display_data",
          "data": {
            "image/png": "[encoded data removed]",
            "text/plain": [
              "<Figure size 432x288 with 1 Axes>"
            ]
          },
          "metadata": {
            "tags": [],
            "needs_background": "light"
          }
        }
      ]
    },
    {
      "cell_type": "code",
      "metadata": {
        "colab": {
          "base_uri": "https://localhost:8080/",
          "height": 269
        },
        "id": "tgj7VMV__Pvz",
        "outputId": "99a71c4d-7ad0-47e8-be74-23c6e95f812f"
      },
      "source": [
        "import matplotlib.pyplot as plt\r\n",
        "import numpy as np\r\n",
        "\r\n",
        "x = np.array([5,7,8,7,2,17,2,9,4,11,12,9,6])\r\n",
        "y = np.array([99,86,87,88,111,86,103,87,94,78,77,85,86])\r\n",
        "colors = np.array([0,10,20,30,40,45,50,55,60,70,80,90,100])\r\n",
        "\r\n",
        "plt.scatter(x,y, c=colors,cmap = 'viridis')\r\n",
        "plt.colorbar()\r\n",
        "plt.show()"
      ],
      "execution_count": null,
      "outputs": [
        {
          "output_type": "display_data",
          "data": {
            "image/png": "[encoded data removed]",
            "text/plain": [
              "<Figure size 432x288 with 2 Axes>"
            ]
          },
          "metadata": {
            "tags": [],
            "needs_background": "light"
          }
        }
      ]
    },
    {
      "cell_type": "code",
      "metadata": {
        "colab": {
          "base_uri": "https://localhost:8080/",
          "height": 269
        },
        "id": "mpANwYpsDa54",
        "outputId": "eff59145-318b-42c8-dbdf-e4ff25e3e6fc"
      },
      "source": [
        "import matplotlib.pyplot as plt\r\n",
        "import numpy as np\r\n",
        "\r\n",
        "x = np.array([5,7,8,7,2,17,2,9,4,11,12,9,6])\r\n",
        "y = np.array([99,86,87,88,111,86,103,87,94,78,77,85,86])\r\n",
        "sizes = np.array([0,10,20,30,40,45,50,55,60,70,80,90,100])\r\n",
        "\r\n",
        "plt.scatter(x,y, s=sizes,alpha=0.9)\r\n",
        "plt.colorbar()\r\n",
        "plt.show()"
      ],
      "execution_count": null,
      "outputs": [
        {
          "output_type": "display_data",
          "data": {
            "image/png": "[encoded data removed]",
            "text/plain": [
              "<Figure size 432x288 with 2 Axes>"
            ]
          },
          "metadata": {
            "tags": [],
            "needs_background": "light"
          }
        }
      ]
    },
    {
      "cell_type": "code",
      "metadata": {
        "colab": {
          "base_uri": "https://localhost:8080/",
          "height": 265
        },
        "id": "ziyaLSqaCgzf",
        "outputId": "8606853f-8b05-43fd-8e9b-48fcedcd6b66"
      },
      "source": [
        "import matplotlib.pyplot as plt\r\n",
        "import numpy as np\r\n",
        "\r\n",
        "x = np.random.randint(100,size=(100))\r\n",
        "y = np.random.randint(100,size=(100))\r\n",
        "colors = np.random.randint(100,size=(100))\r\n",
        "sizes=10 *  np.random.randint(100,size=(100))\r\n",
        "plt.scatter(x,y,c=colors, s=sizes,alpha=0.9,cmap='nipy_spectral')\r\n",
        "plt.colorbar()\r\n",
        "plt.show()"
      ],
      "execution_count": null,
      "outputs": [
        {
          "output_type": "display_data",
          "data": {
            "image/png": "[encoded data removed]",
            "text/plain": [
              "<Figure size 432x288 with 2 Axes>"
            ]
          },
          "metadata": {
            "tags": [],
            "needs_background": "light"
          }
        }
      ]
    },
    {
      "cell_type": "code",
      "metadata": {
        "colab": {
          "base_uri": "https://localhost:8080/",
          "height": 265
        },
        "id": "7Cjvyg7JBW12",
        "outputId": "08406e44-48ec-4c74-db74-6cc7e7feb59b"
      },
      "source": [
        "import matplotlib.pyplot as plt\r\n",
        "import numpy as np\r\n",
        "\r\n",
        "x = np.random.randint(100,size=(100))\r\n",
        "y = np.random.randint(100,size=(100))\r\n",
        "colors = np.random.randint(100,size=(100))\r\n",
        "sizes = 10 * np.random.randint(100,size=(100))\r\n",
        "\r\n",
        "plt.scatter(x,y,c=colors,s=sizes,alpha=0.5,cmap='nipy_spectral')\r\n",
        "plt.colorbar()\r\n",
        "\r\n",
        "plt.show()"
      ],
      "execution_count": null,
      "outputs": [
        {
          "output_type": "display_data",
          "data": {
            "image/png": "[encoded data removed]",
            "text/plain": [
              "<Figure size 432x288 with 2 Axes>"
            ]
          },
          "metadata": {
            "tags": [],
            "needs_background": "light"
          }
        }
      ]
    },
    {
      "cell_type": "markdown",
      "metadata": {
        "id": "sYYeX8dMDKjQ"
      },
      "source": [
        "**Bar Plots/charts**"
      ]
    },
    {
      "cell_type": "code",
      "metadata": {
        "colab": {
          "base_uri": "https://localhost:8080/",
          "height": 265
        },
        "id": "T0TtvBy7Cdv4",
        "outputId": "f16f4ef4-15a2-4ed6-d02d-2cbe9e9008e5"
      },
      "source": [
        "import matplotlib.pyplot as plt\r\n",
        "import numpy as np\r\n",
        "\r\n",
        "x = np.array([\"A\",\"B\",\"C\",\"D\"])\r\n",
        "y = np.array([23,15,25,20])\r\n",
        "\r\n",
        "plt.bar(x,y)\r\n",
        "plt.show()"
      ],
      "execution_count": null,
      "outputs": [
        {
          "output_type": "display_data",
          "data": {
            "image/png": "[encoded data removed]",
            "text/plain": [
              "<Figure size 432x288 with 1 Axes>"
            ]
          },
          "metadata": {
            "tags": [],
            "needs_background": "light"
          }
        }
      ]
    },
    {
      "cell_type": "code",
      "metadata": {
        "colab": {
          "base_uri": "https://localhost:8080/",
          "height": 265
        },
        "id": "TJC4X5ZCENMF",
        "outputId": "da2456cc-32a9-446e-e879-fba8c31edb32"
      },
      "source": [
        "import matplotlib.pyplot as plt\r\n",
        "import numpy as np\r\n",
        "\r\n",
        "x = np.array([\"A\",\"B\",\"C\",\"D\"])\r\n",
        "y = np.array([23,15,25,20])\r\n",
        "\r\n",
        "plt.barh(x,y)\r\n",
        "plt.show()"
      ],
      "execution_count": null,
      "outputs": [
        {
          "output_type": "display_data",
          "data": {
            "image/png": "[encoded data removed]",
            "text/plain": [
              "<Figure size 432x288 with 1 Axes>"
            ]
          },
          "metadata": {
            "tags": [],
            "needs_background": "light"
          }
        }
      ]
    },
    {
      "cell_type": "code",
      "metadata": {
        "colab": {
          "base_uri": "https://localhost:8080/",
          "height": 265
        },
        "id": "Z018UjlZD6q1",
        "outputId": "487bff78-cecc-4169-ae6c-37fd06eefced"
      },
      "source": [
        "import matplotlib.pyplot as plt\r\n",
        "import numpy as np\r\n",
        "\r\n",
        "x = np.array([\"A\",\"B\",\"C\",\"D\"])\r\n",
        "y = np.array([23,15,25,20])\r\n",
        "\r\n",
        "plt.bar(x,y, color = 'red')\r\n",
        "plt.show()"
      ],
      "execution_count": null,
      "outputs": [
        {
          "output_type": "display_data",
          "data": {
            "image/png": "[encoded data removed]",
            "text/plain": [
              "<Figure size 432x288 with 1 Axes>"
            ]
          },
          "metadata": {
            "tags": [],
            "needs_background": "light"
          }
        }
      ]
    },
    {
      "cell_type": "code",
      "metadata": {
        "colab": {
          "base_uri": "https://localhost:8080/",
          "height": 265
        },
        "id": "fue14vB0EE1s",
        "outputId": "4c10c3ef-e8b0-4c7f-fe53-acacc8d58741"
      },
      "source": [
        "import matplotlib.pyplot as plt\r\n",
        "import numpy as np\r\n",
        "\r\n",
        "x = np.array([\"A\",\"B\",\"C\",\"D\"])\r\n",
        "y = np.array([23,15,25,20])\r\n",
        "\r\n",
        "plt.barh(x,y, color = 'red')\r\n",
        "plt.show()"
      ],
      "execution_count": null,
      "outputs": [
        {
          "output_type": "display_data",
          "data": {
            "image/png": "[encoded data removed]",
            "text/plain": [
              "<Figure size 432x288 with 1 Axes>"
            ]
          },
          "metadata": {
            "tags": [],
            "needs_background": "light"
          }
        }
      ]
    },
    {
      "cell_type": "code",
      "metadata": {
        "colab": {
          "base_uri": "https://localhost:8080/",
          "height": 265
        },
        "id": "5Uqbumc4EZIa",
        "outputId": "71807efc-2c04-4eb5-8038-3b5b58450396"
      },
      "source": [
        "import matplotlib.pyplot as plt\r\n",
        "import numpy as np\r\n",
        "\r\n",
        "x = np.array([\"A\",\"B\",\"C\",\"D\"])\r\n",
        "y = np.array([23,15,25,20])\r\n",
        "\r\n",
        "plt.bar(x,y, color = 'pink')\r\n",
        "plt.show()"
      ],
      "execution_count": null,
      "outputs": [
        {
          "output_type": "display_data",
          "data": {
            "image/png": "[encoded data removed]",
            "text/plain": [
              "<Figure size 432x288 with 1 Axes>"
            ]
          },
          "metadata": {
            "tags": [],
            "needs_background": "light"
          }
        }
      ]
    },
    {
      "cell_type": "code",
      "metadata": {
        "colab": {
          "base_uri": "https://localhost:8080/",
          "height": 265
        },
        "id": "j0KI3cGgEgOG",
        "outputId": "185be5d8-c7a0-40c8-cf22-21a2047a9e02"
      },
      "source": [
        "import matplotlib.pyplot as plt\r\n",
        "import numpy as np\r\n",
        "\r\n",
        "x = np.array([\"A\",\"B\",\"C\",\"D\"])\r\n",
        "y = np.array([23,15,25,20])\r\n",
        "\r\n",
        "plt.barh(x,y, color = 'pink')\r\n",
        "plt.show()"
      ],
      "execution_count": null,
      "outputs": [
        {
          "output_type": "display_data",
          "data": {
            "image/png": "[encoded data removed]",
            "text/plain": [
              "<Figure size 432x288 with 1 Axes>"
            ]
          },
          "metadata": {
            "tags": [],
            "needs_background": "light"
          }
        }
      ]
    },
    {
      "cell_type": "code",
      "metadata": {
        "colab": {
          "base_uri": "https://localhost:8080/",
          "height": 265
        },
        "id": "wvJin92fEiEi",
        "outputId": "a046f9c1-2504-4c94-e577-7d4cf9f16827"
      },
      "source": [
        "import matplotlib.pyplot as plt\r\n",
        "import numpy as np\r\n",
        "\r\n",
        "x = np.array([\"A\",\"B\",\"C\",\"D\"])\r\n",
        "y = np.array([23,15,25,20])\r\n",
        "\r\n",
        "plt.bar(x,y,width = 0.1)\r\n",
        "plt.show()"
      ],
      "execution_count": null,
      "outputs": [
        {
          "output_type": "display_data",
          "data": {
            "image/png": "[encoded data removed]",
            "text/plain": [
              "<Figure size 432x288 with 1 Axes>"
            ]
          },
          "metadata": {
            "tags": [],
            "needs_background": "light"
          }
        }
      ]
    },
    {
      "cell_type": "code",
      "metadata": {
        "colab": {
          "base_uri": "https://localhost:8080/",
          "height": 265
        },
        "id": "eM4fd_KYEylP",
        "outputId": "17b3ba87-d951-4a5c-c786-3953a89486fe"
      },
      "source": [
        "import matplotlib.pyplot as plt\r\n",
        "import numpy as np\r\n",
        "\r\n",
        "x = np.array([\"A\",\"B\",\"C\",\"D\"])\r\n",
        "y = np.array([23,15,25,20])\r\n",
        "\r\n",
        "plt.barh(x,y,height = 0.1)\r\n",
        "plt.show()"
      ],
      "execution_count": null,
      "outputs": [
        {
          "output_type": "display_data",
          "data": {
            "image/png": "[encoded data removed]",
            "text/plain": [
              "<Figure size 432x288 with 1 Axes>"
            ]
          },
          "metadata": {
            "tags": [],
            "needs_background": "light"
          }
        }
      ]
    },
    {
      "cell_type": "code",
      "metadata": {
        "colab": {
          "base_uri": "https://localhost:8080/"
        },
        "id": "NRoFGcX6E72a",
        "outputId": "6c2bd733-c420-4fad-b880-a1bb64944262"
      },
      "source": [
        "import numpy as np\r\n",
        "x = np.random.normal(170,10,250)\r\n",
        "print(x)"
      ],
      "execution_count": null,
      "outputs": [
        {
          "output_type": "stream",
          "text": [
            "[175.69277557 169.84916752 169.68769364 180.29347785 163.24321304\n",
            " 167.61090489 191.47843955 168.78390404 153.30256339 158.67543538\n",
            " 166.02923922 149.57555316 161.97003646 168.61396748 174.20461375\n",
            " 181.90949267 165.09085329 175.42721696 179.49015804 168.2276352\n",
            " 178.5264171  176.92014026 177.65096051 148.88165534 169.93271287\n",
            " 166.92644087 168.43794033 165.41431957 187.37028579 175.39112712\n",
            " 174.40138199 184.01313402 160.64523053 180.79385536 163.27007926\n",
            " 151.75644833 174.60547299 175.91461633 179.29977443 166.60188555\n",
            " 174.36423621 183.39895378 172.36255394 177.31475314 161.63688423\n",
            " 160.23512598 165.84353686 185.77068088 162.80261281 159.17929301\n",
            " 154.71894819 184.68094036 173.30646522 166.937028   166.59241781\n",
            " 179.03729089 165.82851638 187.80266518 183.62835616 170.18893225\n",
            " 167.36592321 184.34184892 179.39658572 161.77866574 153.80044626\n",
            " 159.62884309 180.09477423 176.81293333 184.18121708 161.64421762\n",
            " 177.09183803 182.90730313 181.33919836 169.83777448 173.8918468\n",
            " 172.60873357 176.59878137 164.10361909 178.42600558 170.49842478\n",
            " 160.31153172 179.99349792 165.62748415 173.13369178 176.83514476\n",
            " 174.01895919 166.78048363 165.39275511 168.24279537 173.75285658\n",
            " 158.21504296 171.05031982 185.0053744  159.35424484 180.67400787\n",
            " 172.77204033 179.51266802 160.69050973 176.08953294 167.26056732\n",
            " 154.80116111 166.08699265 158.16262428 169.92018563 180.45754224\n",
            " 168.7294113  153.55985065 147.60105253 172.40687385 168.32325148\n",
            " 165.78194847 170.6047474  186.8252994  191.71225218 177.90816789\n",
            " 165.23808224 170.29655949 174.82326381 174.96595993 166.05707233\n",
            " 190.41345039 171.97739739 165.34894987 177.75884697 169.69987336\n",
            " 184.80434249 161.89000218 170.04038467 184.7198541  158.30747402\n",
            " 179.84404081 166.9806096  168.24388815 179.09016368 180.84768785\n",
            " 155.41155166 164.85495406 183.41677349 176.35901838 178.05723155\n",
            " 174.8406583  160.56355622 163.63623793 149.14298002 160.82472557\n",
            " 151.80941291 164.54821492 168.02661267 161.91709812 163.89231494\n",
            " 177.8481756  179.80776128 165.72075401 183.03558475 172.34353213\n",
            " 173.39259088 164.95633382 180.72082615 166.27202855 185.21239291\n",
            " 182.19665861 175.14227543 161.01730908 168.85912667 157.93098411\n",
            " 188.94061398 171.15786046 163.6611854  163.2111241  202.69389781\n",
            " 183.54523334 184.34436056 171.3493578  182.14156845 176.91432387\n",
            " 161.69064253 172.05352681 177.04435763 159.36249039 164.14156008\n",
            " 171.24051495 166.98391147 172.05651382 175.67819104 188.95427856\n",
            " 154.44347222 187.01284674 162.80867547 174.22224804 172.45305281\n",
            " 175.80179699 183.8823058  173.6364663  156.95789483 193.74513261\n",
            " 168.95684358 177.27366498 180.71945371 161.51371985 186.71987445\n",
            " 182.8961011  192.64050456 161.72086667 181.37405509 182.45887285\n",
            " 168.13486847 163.29305865 163.70879164 156.80457682 173.52489693\n",
            " 180.61464261 167.63919872 179.81999358 161.68779535 182.38674638\n",
            " 161.70433549 175.13786481 156.42794035 170.12113344 177.18188597\n",
            " 171.32424723 167.80146873 175.07166602 154.37742156 155.60224214\n",
            " 177.62400073 151.83485272 170.63780941 180.52884761 162.46784905\n",
            " 168.44633818 157.53077792 161.71787975 190.44171488 175.44479041\n",
            " 173.67132722 186.78229432 177.31469114 164.30576603 182.86296461\n",
            " 182.33395325 171.7577714  159.84083434 163.36986719 185.87956756\n",
            " 176.43684017 171.15144936 159.90741985 160.54663407 167.6033117 ]\n"
          ],
          "name": "stdout"
        }
      ]
    },
    {
      "cell_type": "code",
      "metadata": {
        "colab": {
          "base_uri": "https://localhost:8080/",
          "height": 265
        },
        "id": "E9zTXVkUFcfZ",
        "outputId": "cfa5e2d4-4087-4532-c9f9-114e18d99d0f"
      },
      "source": [
        "import matplotlib.pyplot as plt\r\n",
        "import numpy as np\r\n",
        "\r\n",
        "x = np.random.normal(170,10,250)\r\n",
        "\r\n",
        "plt.hist(x)\r\n",
        "plt.show()"
      ],
      "execution_count": null,
      "outputs": [
        {
          "output_type": "display_data",
          "data": {
            "image/png": "[encoded data removed]",
            "text/plain": [
              "<Figure size 432x288 with 1 Axes>"
            ]
          },
          "metadata": {
            "tags": [],
            "needs_background": "light"
          }
        }
      ]
    },
    {
      "cell_type": "code",
      "metadata": {
        "colab": {
          "base_uri": "https://localhost:8080/",
          "height": 248
        },
        "id": "AnloocZHF7tS",
        "outputId": "fa0d4193-e381-4f09-e7c6-619d451a7129"
      },
      "source": [
        "import matplotlib.pyplot as plt\r\n",
        "import numpy as np\r\n",
        "\r\n",
        "y = np.array([35,25,25,15])\r\n",
        "\r\n",
        "plt.pie(y)\r\n",
        "plt.show()"
      ],
      "execution_count": null,
      "outputs": [
        {
          "output_type": "display_data",
          "data": {
            "image/png": "[encoded data removed]",
            "text/plain": [
              "<Figure size 432x288 with 1 Axes>"
            ]
          },
          "metadata": {
            "tags": []
          }
        }
      ]
    },
    {
      "cell_type": "code",
      "metadata": {
        "colab": {
          "base_uri": "https://localhost:8080/",
          "height": 248
        },
        "id": "vPwH_IVQGSvv",
        "outputId": "64eac38a-d6f2-4129-af62-258ecbe9a3ab"
      },
      "source": [
        "import matplotlib.pyplot as plt\r\n",
        "import numpy as np\r\n",
        "\r\n",
        "y = np.array([35,25,25,15])\r\n",
        "mylables = ['Sagar','Ramesh','Priykant','Rahul']\r\n",
        "\r\n",
        "plt.pie(y, labels= mylables)\r\n",
        "plt.show()"
      ],
      "execution_count": null,
      "outputs": [
        {
          "output_type": "display_data",
          "data": {
            "image/png": "[encoded data removed]",
            "text/plain": [
              "<Figure size 432x288 with 1 Axes>"
            ]
          },
          "metadata": {
            "tags": []
          }
        }
      ]
    },
    {
      "cell_type": "code",
      "metadata": {
        "colab": {
          "base_uri": "https://localhost:8080/",
          "height": 248
        },
        "id": "iWQ8tumfGsHU",
        "outputId": "2e920583-834e-4733-9fa7-46f5e71b7e5d"
      },
      "source": [
        "import matplotlib.pyplot as plt\r\n",
        "import numpy as np\r\n",
        "\r\n",
        "y = np.array([35,25,25,15])\r\n",
        "mylables = ['Sagar','Ramesh','Priykant','Rahul']\r\n",
        "\r\n",
        "myexplode = [0.2,0,0,0]\r\n",
        "\r\n",
        "plt.pie(y, labels= mylables,explode=myexplode)\r\n",
        "plt.show()"
      ],
      "execution_count": null,
      "outputs": [
        {
          "output_type": "display_data",
          "data": {
            "image/png": "[encoded data removed]",
            "text/plain": [
              "<Figure size 432x288 with 1 Axes>"
            ]
          },
          "metadata": {
            "tags": []
          }
        }
      ]
    },
    {
      "cell_type": "code",
      "metadata": {
        "colab": {
          "base_uri": "https://localhost:8080/",
          "height": 248
        },
        "id": "HlkUS50qHM3R",
        "outputId": "f5edbb67-17b4-4cc4-c4e4-6f8c93e54985"
      },
      "source": [
        "import matplotlib.pyplot as plt\r\n",
        "import numpy as np\r\n",
        "\r\n",
        "y = np.array([35,25,25,15])\r\n",
        "mylables = ['Sagar','Ramesh','Priykant','Rahul']\r\n",
        "\r\n",
        "myexplode = [0.2,0,0,0]\r\n",
        "\r\n",
        "plt.pie(y, labels= mylables,explode=myexplode,shadow= True)\r\n",
        "plt.show()"
      ],
      "execution_count": null,
      "outputs": [
        {
          "output_type": "display_data",
          "data": {
            "image/png": "[encoded data removed]",
            "text/plain": [
              "<Figure size 432x288 with 1 Axes>"
            ]
          },
          "metadata": {
            "tags": []
          }
        }
      ]
    },
    {
      "cell_type": "code",
      "metadata": {
        "colab": {
          "base_uri": "https://localhost:8080/",
          "height": 248
        },
        "id": "vyWg0VfYHs2v",
        "outputId": "dbe24a5e-9b71-4d61-9d9c-5bfce7e7bf03"
      },
      "source": [
        "import matplotlib.pyplot as plt\r\n",
        "import numpy as np\r\n",
        "\r\n",
        "y = np.array([35,25,25,15])\r\n",
        "mylables = ['Sagar','Ramesh','Priykant','Rahul']\r\n",
        "\r\n",
        "myexplode = [0.2,0,0,0]\r\n",
        "\r\n",
        "plt.pie(y, labels= mylables,explode=myexplode,shadow= True)\r\n",
        "plt.legend()\r\n",
        "plt.show()"
      ],
      "execution_count": null,
      "outputs": [
        {
          "output_type": "display_data",
          "data": {
            "image/png": "[encoded data removed]",
            "text/plain": [
              "<Figure size 432x288 with 1 Axes>"
            ]
          },
          "metadata": {
            "tags": []
          }
        }
      ]
    },
    {
      "cell_type": "code",
      "metadata": {
        "colab": {
          "base_uri": "https://localhost:8080/",
          "height": 248
        },
        "id": "93oifBp6IDpS",
        "outputId": "b65fad2a-b83f-4a3a-92d5-35ac06d48e0c"
      },
      "source": [
        "import matplotlib.pyplot as plt\r\n",
        "import numpy as np\r\n",
        "\r\n",
        "y = np.array([35,25,25,15])\r\n",
        "mylables = ['Sagar','Ramesh','Priykant','Rahul']\r\n",
        "\r\n",
        "myexplode = [0.2,0,0,0]\r\n",
        "\r\n",
        "plt.pie(y, labels= mylables,explode=myexplode,shadow= True)\r\n",
        "plt.legend(title='student names:')\r\n",
        "plt.show()"
      ],
      "execution_count": null,
      "outputs": [
        {
          "output_type": "display_data",
          "data": {
            "image/png": "[encoded data removed]",
            "text/plain": [
              "<Figure size 432x288 with 1 Axes>"
            ]
          },
          "metadata": {
            "tags": []
          }
        }
      ]
    },
    {
      "cell_type": "code",
      "metadata": {
        "colab": {
          "base_uri": "https://localhost:8080/",
          "height": 248
        },
        "id": "G_WMZ-yPImCC",
        "outputId": "7f706638-a9fe-48f9-9c56-47181030e3cf"
      },
      "source": [
        "import matplotlib.pyplot as plt\r\n",
        "import numpy as np\r\n",
        "\r\n",
        "y = np.array([35,25,25,15])\r\n",
        "mylables = ['Sagar','Ramesh','Priykant','Rahul']\r\n",
        "\r\n",
        "myexplode = [0.2,0,0,0]\r\n",
        "\r\n",
        "plt.pie(y, labels= mylables,explode=myexplode)\r\n",
        "plt.legend(title='student names:')\r\n",
        "plt.show()"
      ],
      "execution_count": null,
      "outputs": [
        {
          "output_type": "display_data",
          "data": {
            "image/png": "[encoded data removed]",
            "text/plain": [
              "<Figure size 432x288 with 1 Axes>"
            ]
          },
          "metadata": {
            "tags": []
          }
        }
      ]
    },
    {
      "cell_type": "code",
      "metadata": {
        "id": "PANskNEGJ0rb"
      },
      "source": [
        ""
      ],
      "execution_count": null,
      "outputs": []
    }
  ]
}